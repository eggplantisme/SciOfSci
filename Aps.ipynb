{
 "cells": [
  {
   "cell_type": "code",
   "execution_count": 1,
   "id": "6c899833-97bd-4e77-8021-290370b3f3b2",
   "metadata": {
    "tags": []
   },
   "outputs": [],
   "source": [
    "import numpy as np\n",
    "from tqdm import tqdm\n",
    "from scipy.sparse import csr_array\n",
    "import matplotlib.pyplot as plt\n",
    "from _FigureJiazeHelper import *\n",
    "from _HyperSBM import *\n",
    "from _HyperCommunityDetection import *\n",
    "import pickle\n",
    "import warnings\n",
    "import pandas\n",
    "import time\n",
    "import hypernetx as hnx\n",
    "warnings.filterwarnings(\"ignore\")\n",
    "\n",
    "%load_ext autoreload\n",
    "%autoreload 2"
   ]
  },
  {
   "cell_type": "code",
   "execution_count": 2,
   "id": "45500ed1-55de-49fd-98df-462b8a2b1e3e",
   "metadata": {
    "tags": []
   },
   "outputs": [],
   "source": [
    "# Matplotlib settings\n",
    "\n",
    "# plt.style.use('seaborn-whitegrid')\n",
    "plt.rc('figure', figsize=(8, 5))\n",
    "plt.rc('font', size=16)\n",
    "# plt.rc('font', family='sans-serif')\n",
    "# plt.rcParams['font.sans-serif'] = 'verdana'\n",
    "plt.rcParams['font.family'] = 'DeJavu Serif'\n",
    "plt.rcParams['font.serif'] = ['Times New Roman']\n",
    "plt.rcParams['lines.linewidth'] = 4\n",
    "plt.rcParams['axes.spines.right'] = False\n",
    "plt.rcParams['axes.spines.top'] = False\n",
    "plt.rcParams['axes.edgecolor'] = basic_line_color\n",
    "plt.rcParams['xtick.color'] = basic_line_color\n",
    "plt.rcParams['ytick.color'] = basic_line_color\n",
    "plt.rcParams['axes.labelsize'] = 'large'\n",
    "plt.rcParams['lines.markersize'] = 12\n",
    "\n",
    "%config InlineBackend.figure_format = 'retina'"
   ]
  },
  {
   "cell_type": "markdown",
   "id": "8f749490-68cd-4b8e-89cd-973c9d54d0ba",
   "metadata": {
    "jp-MarkdownHeadingCollapsed": true,
    "tags": []
   },
   "source": [
    "# Data Prepare"
   ]
  },
  {
   "cell_type": "code",
   "execution_count": 3,
   "id": "f88230f6-b4b9-43b0-963a-abef377a17cb",
   "metadata": {
    "tags": []
   },
   "outputs": [],
   "source": [
    "def save_idmap(path, d):\n",
    "    with open(path, 'w') as f:\n",
    "        for k in d.keys():\n",
    "            f.write(f\"{k} {d[k]}\\n\")\n",
    "\n",
    "            \n",
    "def load_idmap(path):\n",
    "    d = dict()\n",
    "    with open(path, 'r') as f:\n",
    "        for line in f.readlines():\n",
    "            line = line.strip().split(' ')\n",
    "            d[int(line[0])] = int(line[1])\n",
    "    return d"
   ]
  },
  {
   "cell_type": "code",
   "execution_count": 4,
   "id": "25970e20-4cbb-4b7e-9341-290f32da1c39",
   "metadata": {
    "tags": []
   },
   "outputs": [],
   "source": [
    "class APS:\n",
    "    def __init__(self):\n",
    "        self.author_n = 0\n",
    "        self.paper_n = 0\n",
    "        self.incidence_H = None  # authors * papers\n",
    "        self.citation_A = None  # papers * papers\n",
    "        self.construct()\n",
    "    \n",
    "    def construct(self):\n",
    "        authorship_file = \"./aps/data/authorships_afterdisambiguation.csv\"\n",
    "        # Construct authorship incidence matrix (Bipartite or Hyper)\n",
    "        with open(authorship_file, 'r') as fr:\n",
    "            fr.readline()\n",
    "            data = []\n",
    "            row_ind = []\n",
    "            col_ind = []\n",
    "            author_ids = []\n",
    "            paper_ids = []\n",
    "            author_papers = set()\n",
    "            for line in tqdm(fr.readlines(), desc='Load Authorship'):\n",
    "                line = line.strip().split(',')\n",
    "                paper_id = int(line[0])\n",
    "                author_id = int(line[1])\n",
    "                if (author_id, paper_id) not in author_papers:\n",
    "                    author_papers.add((author_id, paper_id))\n",
    "                else:\n",
    "                    continue\n",
    "                    # print(f\"{(author_id, paper_id)} repeats\") # There are some author paper repeat in file\n",
    "                # if paper_id > 0 and paper_id - col_ind[-1] >= 2:\n",
    "                #     print(paper_id)\n",
    "                author_ids.append(author_id)\n",
    "                paper_ids.append(paper_id)\n",
    "                data.append(1)\n",
    "            # check the authoid and paperid in file is not continues\n",
    "            # print(f\"{np.size(np.unique(author_ids))}, {max(author_ids)}, {np.size(np.unique(paper_ids))}, {max(paper_ids)}\")\n",
    "            unique_author_ids = np.unique(author_ids)\n",
    "            self.author_n = np.size(np.unique(author_ids))\n",
    "            authorId_map_ind = dict({unique_author_ids[i]:i for i in range(self.author_n)})\n",
    "            \n",
    "            # For paper we don't unique that considering the citation part\n",
    "            # unique_paper_ids = np.unique(paper_ids)\n",
    "            # self.paper_n = np.size(np.unique(unique_paper_ids))\n",
    "            # paperId_map_ind = dict({unique_paper_ids[i]:i for i in range(self.paper_n)})\n",
    "            self.paper_n = np.max(paper_ids)+1\n",
    "            # TODO save these map for check\n",
    "            save_authorId_map = \"./aps/authorId_map_ind.txt\"\n",
    "            save_idmap(save_authorId_map, authorId_map_ind)\n",
    "            \n",
    "            row_ind = [authorId_map_ind[aid] for aid in author_ids]\n",
    "            col_ind = paper_ids\n",
    "            self.incidence_H = csr_array((data, (row_ind, col_ind)))\n",
    "            print(f\"Number of Author {self.author_n}, Number of Paper {self.paper_n} \\n\", \n",
    "                  f\"Average #_papers per author {self.incidence_H.sum() / self.author_n} \\n\", \n",
    "                  f\"Average #_coauthors per paper {self.incidence_H.sum() / self.paper_n} \\n\")\n",
    "        \n",
    "        citation_file = \"./aps/data/citations_withID.csv\"\n",
    "        # Construct citation adjacent matrix (Directed network)\n",
    "        with open(citation_file, 'r') as fr:\n",
    "            fr.readline()\n",
    "            data = []\n",
    "            citing_ids = []\n",
    "            cited_ids = []\n",
    "            for line in tqdm(fr.readlines(), desc='Load Citation'):\n",
    "                line = line.strip().split(',')\n",
    "                citing_id = int(float(line[2]))\n",
    "                cited_id = int(float(line[3]))\n",
    "                citing_ids.append(citing_id)\n",
    "                cited_ids.append(cited_id)\n",
    "                data.append(1)\n",
    "                # Check there are some paper cited but no author\n",
    "                # if citing_id not in paperId_map_ind.keys() or cited_id not in paperId_map_ind.keys():\n",
    "                #     print(f\"{citing_id}, {cited_id} is not in authorship file\")\n",
    "            # print(f\"{np.size(np.unique(citing_ids))}, {max(citing_ids)}, {np.size(np.unique(cited_ids))}, {max(cited_ids)}\")\n",
    "            self.citation_A = csr_array((data, (citing_ids, cited_ids)), shape=(self.paper_n, self.paper_n))\n",
    "            print(f\"Average #_cited_papers per citing_paper {self.citation_A.sum() / self.paper_n} \\n\")\n",
    "            \n",
    "    def papers_info(self, paper_ids, paper_partition, save_path):\n",
    "        partition_dict = dict(zip(paper_ids, paper_partition))\n",
    "        \n",
    "        paper_path = \"./aps/meta/publications.csv\"\n",
    "        if save_path is not None:\n",
    "            paper_info_path = save_path\n",
    "        else:\n",
    "            paper_info_path = \"./aps/result/paper_partition_info.csv\"  # to save\n",
    "        # Load topics\n",
    "        paper_topic_path = \"./aps/meta/publication_topics.csv\"\n",
    "        paper_topics = dict({i:{0:[], 1:[], 2:[], 'primary_topic(concept)':-1} for i in range(self.paper_n)})\n",
    "        topic_type = dict({0:\"area\", 1:\"discipline\", 2:\"concept\"})\n",
    "        with open(paper_topic_path, 'r') as fr:\n",
    "            fr.readline()\n",
    "            for line in tqdm(fr.readlines(), desc='Load paper_topics'):\n",
    "                line = line.strip().split(',')\n",
    "                paper_topics[int(line[0])][int(line[2])].append(int(line[1]))\n",
    "                if line[-1] == \"True\":\n",
    "                    paper_topics[int(line[0])]['primary_topic(concept)'] = int(line[1])\n",
    "        # Load topic names\n",
    "        areas = dict()\n",
    "        with open(\"./aps/meta/areas.csv\", 'r') as fr:\n",
    "            fr.readline()\n",
    "            for line in tqdm(fr.readlines(), desc='Load areas'):\n",
    "                line = line.strip().split(',')\n",
    "                areas[int(line[0])] = line[2]\n",
    "        disciplines = dict()\n",
    "        with open(\"./aps/meta/disciplines.csv\", 'r') as fr:\n",
    "            fr.readline()\n",
    "            for line in tqdm(fr.readlines(), desc='Load disciplines'):\n",
    "                line = line.strip().split(',')\n",
    "                disciplines[int(line[0])] = line[2]\n",
    "        concepts = dict()\n",
    "        with open(\"./aps/meta/concepts.csv\", 'r') as fr:\n",
    "            fr.readline()\n",
    "            for line in tqdm(fr.readlines(), desc='Load concepts'):\n",
    "                line = line.strip().split(',')\n",
    "                concepts[int(line[0])] = line[3]\n",
    "        # Load paper and write\n",
    "        with open(paper_path, 'r') as fr:\n",
    "            with open(paper_info_path, 'w') as fw:\n",
    "                fw.write(\"id_publication,id_journal,timestamp,doi,areas,disciplines,concepts,primary_concept,partitions\\n\")\n",
    "                fr.readline()\n",
    "                for rline in tqdm(fr.readlines(), desc='Load papers'):\n",
    "                    wline = rline.strip().split(',')\n",
    "                    pid = int(wline[0])\n",
    "                    wline.append(\" \".join([str(i) for i in sorted(paper_topics[pid][0])]))\n",
    "                    wline.append(\" \".join([str(i) for i in sorted(paper_topics[pid][1])]))\n",
    "                    wline.append(\" \".join([str(i) for i in sorted(paper_topics[pid][2])]))\n",
    "                    wline.append(str(paper_topics[pid]['primary_topic(concept)']))\n",
    "                    if pid in partition_dict.keys():\n",
    "                        wline.append(str(partition_dict[pid]))\n",
    "                    else:\n",
    "                        wline.append(\"\")\n",
    "                    wline = \",\".join(wline)\n",
    "                    fw.write(wline+\"\\n\")\n",
    "                    "
   ]
  },
  {
   "cell_type": "code",
   "execution_count": 93,
   "id": "3c4bf24d-8a67-401a-92e8-0ecf9ff2dcd6",
   "metadata": {
    "tags": []
   },
   "outputs": [
    {
     "name": "stderr",
     "output_type": "stream",
     "text": [
      "Load Authorship: 100%|██████████| 2385375/2385375 [00:04<00:00, 575975.85it/s]\n"
     ]
    },
    {
     "name": "stdout",
     "output_type": "stream",
     "text": [
      "Number of Author 868506, Number of Paper 678916 \n",
      " Average #_papers per author 2.7464692241619515 \n",
      " Average #_coauthors per paper 3.5134317058369517 \n",
      "\n"
     ]
    },
    {
     "name": "stderr",
     "output_type": "stream",
     "text": [
      "Load Citation: 100%|██████████| 8767868/8767868 [00:16<00:00, 521286.64it/s]\n"
     ]
    },
    {
     "name": "stdout",
     "output_type": "stream",
     "text": [
      "Average #_cited_papers per citing_paper 12.914510778947616 \n",
      "\n"
     ]
    }
   ],
   "source": [
    "aps = APS()"
   ]
  },
  {
   "cell_type": "code",
   "execution_count": 19,
   "id": "160d6a3c-2a35-4f98-b8c9-9d8f97f98d98",
   "metadata": {
    "tags": []
   },
   "outputs": [
    {
     "data": {
      "text/plain": [
       "(array([1]), array([2385325]))"
      ]
     },
     "execution_count": 19,
     "metadata": {},
     "output_type": "execute_result"
    }
   ],
   "source": [
    "np.unique(aps.incidence_H.data, return_counts=True)"
   ]
  },
  {
   "cell_type": "markdown",
   "id": "f6aad669-ba36-4bbd-9354-3f416fecfbfe",
   "metadata": {
    "tags": []
   },
   "source": [
    "# CD based on Hypergraph on papers"
   ]
  },
  {
   "cell_type": "code",
   "execution_count": 7,
   "id": "1cb4f2f2-5e5d-49c2-aec0-95875f68128f",
   "metadata": {
    "tags": []
   },
   "outputs": [],
   "source": [
    "class HyperPaper(APS):\n",
    "    def __init__(self):\n",
    "        super().__init__()\n",
    "        self.n = self.paper_n\n",
    "        self.e = self.author_n\n",
    "        self.H = self.incidence_H.transpose()\n",
    "        \n",
    "        edge_order, order_count = np.unique(self.H.sum(axis=0).flatten(), return_counts=True)\n",
    "        print(f\"There are {order_count[0]} authors with 1 paper: number of order_1 hyperedge. To be removed!\")\n",
    "        self.e = self.e - order_count[0]\n",
    "        nonorder1_column = (self.H.sum(axis=0).flatten()!=1).nonzero()\n",
    "        self.H = (self.H.tocsc()[:, nonorder1_column[0]]).tocsr()\n",
    "        # print(np.unique(self.H.data, return_counts=True))\n",
    "        \n",
    "        node_degree, degree_count = np.unique(self.H.sum(axis=1).flatten(),  return_counts=True)\n",
    "        print(f\"There are {degree_count[0]} papers with 0 author: number of degree_0 nodes. To be removed!\")\n",
    "        self.n = self.n - degree_count[0]\n",
    "        self.nondegree0_row = (self.H.sum(axis=1).flatten()!=0).nonzero()\n",
    "        self.nodes = self.nondegree0_row[0]\n",
    "        self.H = self.H[self.nondegree0_row[0], :]\n",
    "        \n",
    "        # self.max_component()\n",
    "        \n",
    "        edge_order, order_count = np.unique(self.H.sum(axis=0).flatten(), return_counts=True)\n",
    "        self.Ks = edge_order\n",
    "        self.summary()\n",
    "    \n",
    "    def summary(self):\n",
    "        edge_order, order_count = np.unique(self.H.sum(axis=0).flatten(), return_counts=True)\n",
    "        node_degree, degree_count = np.unique(self.H.sum(axis=1).flatten(),  return_counts=True)\n",
    "        print(f\"Hypergraph on papers, each author is a hyperedge. n={self.n}, e={self.e}\\n Ks & #hyperedge per order={np.array([edge_order, order_count])}\")\n",
    "        print(f\"Ds & #nodes per degree={np.array([node_degree, degree_count])}\")\n",
    "    \n",
    "    \n",
    "    def max_component(self, connected_components=None):\n",
    "        if connected_components is None:\n",
    "            hyper_g = hnx.Hypergraph.from_incidence_matrix(self.H)\n",
    "            connected_components = list(hyper_g.s_connected_components(edges=False))\n",
    "        print(f\"There are {len(connected_components)} connected components now, we select the maximum one\")\n",
    "        max_component = np.array(list(connected_components[0]))\n",
    "        self.H = self.H[max_component, :]  # Directly cut the nodes in max component\n",
    "        self.nodes = self.nondegree0_row[0][max_component]\n",
    "        self.n = np.size(max_component)\n",
    "        edge_order, order_count = np.unique(self.H.sum(axis=0).flatten(), return_counts=True)\n",
    "        print(f\"There are {order_count[0]} authors with {edge_order[0]} paper after select max component: To be removed!\")\n",
    "        self.e = self.e - order_count[0]\n",
    "        nonorder0_column = (self.H.sum(axis=0).flatten()!=0).nonzero()\n",
    "        self.H = (self.H.tocsc()[:, nonorder0_column[0]]).tocsr()\n",
    "        edge_order, order_count = np.unique(self.H.sum(axis=0).flatten(), return_counts=True)\n",
    "        node_degree, degree_count = np.unique(self.H.sum(axis=1).flatten(),  return_counts=True)\n",
    "        self.Ks = edge_order\n",
    "        self.summary()\n",
    "        \n",
    "    def get_operator(self, operator='BH', r=0, consider_ks=None):\n",
    "        if operator == \"BH\":\n",
    "            edge_order = self.H.sum(axis=0).flatten()\n",
    "            D = None\n",
    "            A = None\n",
    "            self.H = self.H.tocsc()\n",
    "            if consider_ks is None:\n",
    "                Ks = self.Ks\n",
    "            else:\n",
    "                Ks = consider_ks\n",
    "            for k in tqdm(Ks, desc='Constructing HyperBH...'):\n",
    "                edge_index = np.where(edge_order == k)[0]\n",
    "                Hk = self.H[:, edge_index]\n",
    "                Dk = diags(Hk.sum(axis=1).flatten().astype(float))\n",
    "                Ak = Hk.dot(Hk.T) - diags(Hk.dot(Hk.T).diagonal())\n",
    "                if D is None:\n",
    "                    D = (k-1)/((1-r)*(r+k-1))*Dk\n",
    "                else:\n",
    "                    D += (k-1)/((1-r)*(r+k-1))*Dk\n",
    "                if A is None:\n",
    "                    A = r/((1-r)*(r+k-1))*Ak\n",
    "                else:\n",
    "                    A += r/((1-r)*(r+k-1))*Ak\n",
    "            B = eye(D.shape[0]) - D + A\n",
    "            return B\n",
    "        elif operator == \"binary_proj_L\":\n",
    "            projA = self.H.dot(self.H.T)\n",
    "            projA = projA - diags(projA.diagonal())\n",
    "            projA[projA > 0] = 1\n",
    "            D = diags(projA.sum(axis=0))\n",
    "            L = D - projA\n",
    "            print(L[:10, :10])\n",
    "            return L"
   ]
  },
  {
   "cell_type": "code",
   "execution_count": 58,
   "id": "38569b18-a69e-4394-b130-12314170f437",
   "metadata": {
    "collapsed": true,
    "jupyter": {
     "outputs_hidden": true
    },
    "tags": []
   },
   "outputs": [
    {
     "name": "stderr",
     "output_type": "stream",
     "text": [
      "Load Authorship: 100%|██████████| 2385375/2385375 [00:04<00:00, 561199.10it/s]\n"
     ]
    },
    {
     "name": "stdout",
     "output_type": "stream",
     "text": [
      "Number of Author 868506, Number of Paper 678916 \n",
      " Average #_papers per author 2.7464692241619515 \n",
      " Average #_coauthors per paper 3.5134317058369517 \n",
      "\n"
     ]
    },
    {
     "name": "stderr",
     "output_type": "stream",
     "text": [
      "Load Citation: 100%|██████████| 8767868/8767868 [00:17<00:00, 494793.15it/s]\n"
     ]
    },
    {
     "name": "stdout",
     "output_type": "stream",
     "text": [
      "Average #_cited_papers per citing_paper 12.914510778947616 \n",
      "\n",
      "There are 661105 authors with 1 paper: number of order_1 hyperedge. To be removed!\n",
      "There are 75916 papers with 0 author: number of degree_0 nodes. To be removed!\n",
      "Hypergraph on papers, each author is a hyperedge. n=603000, e=207401\n",
      " Ks & #hyperedge per order=[[    2     3     4     5     6     7     8     9    10    11    12    13\n",
      "     14    15    16    17    18    19    20    21    22    23    24    25\n",
      "     26    27    28    29    30    31    32    33    34    35    36    37\n",
      "     38    39    40    41    42    43    44    45    46    47    48    49\n",
      "     50    51    52    53    54    55    56    57    58    59    60    61\n",
      "     62    63    64    65    66    67    68    69    70    71    72    73\n",
      "     74    75    76    77    78    79    80    81    82    83    84    85\n",
      "     86    87    88    89    90    91    92    93    94    95    96    97\n",
      "     98    99   100   101   102   103   104   105   106   107   108   109\n",
      "    110   111   112   113   114   115   116   117   118   119   120   121\n",
      "    122   123   124   125   126   127   128   129   130   131   132   133\n",
      "    134   135   136   137   138   139   140   141   142   143   144   145\n",
      "    146   147   148   149   150   151   152   153   154   155   156   157\n",
      "    158   159   160   161   162   163   164   165   166   167   168   169\n",
      "    170   171   172   173   174   175   176   177   178   179   180   182\n",
      "    183   186   187   188   189   190   191   193   197   198   199   201\n",
      "    202   203   204   205   207   208   209   210   211   213   214   215\n",
      "    216   217   218   219   220   221   222   224   226   228   230   233\n",
      "    235   237   242   244   246   249   250   251   252   254   255   257\n",
      "    258   259   260   263   264   265   267   268   271   273   274   279\n",
      "    280   281   283   287   292   297   302   306   309   312   314   316\n",
      "    323   329   344   354   358   360   366   370   373   377   378   397\n",
      "    399   420   422   426   431   444   474   487   491   497   524   710\n",
      "    747]\n",
      " [69453 34968 20741 13829  9613  7318  5629  4544  3798  3211  2765  2441\n",
      "   2086  1922  1646  1545  1329  1278  1148  1055   889   869   798   749\n",
      "    681   633   598   562   541   486   487   423   408   364   382   368\n",
      "    337   325   307   267   272   246   256   230   220   200   191   191\n",
      "    187   165   178   151   153   142   131   114   122   118   104   100\n",
      "     97    92    95   104    90    82    84    79    68    65    62    89\n",
      "     62    56    60    70    57    55    54    59    50    50    50    54\n",
      "     38    31    37    33    38    32    27    45    41    25    26    33\n",
      "     29    36    28    21    22    18    15    26    20    18    23    21\n",
      "     22    14    25    18    12    15    13    24    15    13    15    12\n",
      "     12    13     8     9    13    21    11    14    13     9    15     8\n",
      "      7     9     7     9     4    10     9    13     6     7    10     7\n",
      "      5    12     6    10     8     9     4     5     9     7     5     5\n",
      "      6     5     6     4     5     2     9     5     1     3     7     6\n",
      "      3     5     7     4     2     2     6     3     4     1     4     2\n",
      "      3     3     3     6     2     1     1     2     1     2     1     1\n",
      "      2     3     1     2     2     2     2     1     5     4     2     2\n",
      "      1     1     1     1     3     1     1     1     1     1     1     1\n",
      "      2     1     1     2     2     2     2     1     2     1     1     2\n",
      "      1     2     1     2     1     1     1     2     1     2     1     1\n",
      "      1     1     1     1     1     1     1     1     1     1     1     1\n",
      "      1     1     2     1     1     1     1     1     1     1     1     1\n",
      "      1     1     1     1     1     1     1     1     1     1     1     1\n",
      "      1]]\n",
      "Ds & #nodes per degree=[[     1      2      3      4      5      6      7      8      9]\n",
      " [122319 183402 132376  75392  40687  23483  14044   7913   3384]]\n"
     ]
    }
   ],
   "source": [
    "aps_hyper_paper = HyperPaper()"
   ]
  },
  {
   "cell_type": "code",
   "execution_count": null,
   "id": "7ea37759-1518-421c-a297-c1b0aba7c46e",
   "metadata": {
    "jupyter": {
     "source_hidden": true
    },
    "tags": []
   },
   "outputs": [],
   "source": [
    "# Try laplacian to find connected components\n",
    "start = time.time()\n",
    "L = aps_hyper_paper.get_operator(\"binary_proj_L\")\n",
    "evals = eigsh(L, 10, which=\"SA\", tol=1e-6, return_eigenvectors=False)\n",
    "print(f\"Time: {time.time()-start}, EigVals={evals}\")"
   ]
  },
  {
   "cell_type": "code",
   "execution_count": 10,
   "id": "428b042c-756c-4fc5-95a1-62389418e5ef",
   "metadata": {
    "tags": []
   },
   "outputs": [],
   "source": [
    "hyper_g = hnx.Hypergraph.from_incidence_matrix(aps_hyper_paper.H)\n",
    "connected_components = list(hyper_g.s_connected_components(edges=False))"
   ]
  },
  {
   "cell_type": "code",
   "execution_count": 55,
   "id": "0282fc5a-3aa2-4d43-9887-f4f8a0d211ab",
   "metadata": {
    "tags": []
   },
   "outputs": [
    {
     "name": "stdout",
     "output_type": "stream",
     "text": [
      "583905\n",
      "(603000,)\n",
      "(583905,)\n",
      "int64\n"
     ]
    }
   ],
   "source": [
    "print(len(connected_components[0]))\n",
    "# print([len(com) for com in connected_components])\n",
    "print(np.shape(aps_hyper_paper.nondegree0_row[0]))\n",
    "print(np.shape(np.array(list(connected_components[0]))))\n",
    "print(np.array(list(connected_components[0])).dtype)"
   ]
  },
  {
   "cell_type": "code",
   "execution_count": 59,
   "id": "24f76f70-03f9-42c4-8421-3d8c8bbc27b2",
   "metadata": {
    "tags": []
   },
   "outputs": [
    {
     "name": "stdout",
     "output_type": "stream",
     "text": [
      "There are 5675 connected components now, we select the maximum one\n",
      "There are 8792 authors with 0 paper after select max component: To be removed!\n",
      "Hypergraph on papers, each author is a hyperedge. n=583905, e=198609\n",
      " Ks & #hyperedge per order=[[    2     3     4     5     6     7     8     9    10    11    12    13\n",
      "     14    15    16    17    18    19    20    21    22    23    24    25\n",
      "     26    27    28    29    30    31    32    33    34    35    36    37\n",
      "     38    39    40    41    42    43    44    45    46    47    48    49\n",
      "     50    51    52    53    54    55    56    57    58    59    60    61\n",
      "     62    63    64    65    66    67    68    69    70    71    72    73\n",
      "     74    75    76    77    78    79    80    81    82    83    84    85\n",
      "     86    87    88    89    90    91    92    93    94    95    96    97\n",
      "     98    99   100   101   102   103   104   105   106   107   108   109\n",
      "    110   111   112   113   114   115   116   117   118   119   120   121\n",
      "    122   123   124   125   126   127   128   129   130   131   132   133\n",
      "    134   135   136   137   138   139   140   141   142   143   144   145\n",
      "    146   147   148   149   150   151   152   153   154   155   156   157\n",
      "    158   159   160   161   162   163   164   165   166   167   168   169\n",
      "    170   171   172   173   174   175   176   177   178   179   180   182\n",
      "    183   186   187   188   189   190   191   193   197   198   199   201\n",
      "    202   203   204   205   207   208   209   210   211   213   214   215\n",
      "    216   217   218   219   220   221   222   224   226   228   230   233\n",
      "    235   237   242   244   246   249   250   251   252   254   255   257\n",
      "    258   259   260   263   264   265   267   268   271   273   274   279\n",
      "    280   281   283   287   292   297   302   306   309   312   314   316\n",
      "    323   329   344   354   358   360   366   370   373   377   378   397\n",
      "    399   420   422   426   431   444   474   487   491   497   524   710\n",
      "    747]\n",
      " [64089 33230 20043 13464  9413  7184  5544  4490  3764  3186  2750  2421\n",
      "   2078  1913  1642  1540  1323  1275  1143  1053   887   867   794   749\n",
      "    679   632   598   562   540   486   486   423   408   363   381   366\n",
      "    337   325   307   267   272   246   256   230   220   200   191   191\n",
      "    187   164   178   151   153   142   131   114   122   118   104   100\n",
      "     97    92    95   104    90    82    84    79    68    65    62    89\n",
      "     62    56    60    70    57    55    54    59    50    50    50    54\n",
      "     38    31    37    33    38    32    27    45    41    25    26    33\n",
      "     29    36    28    21    22    18    15    26    20    18    23    21\n",
      "     22    14    25    18    12    15    13    24    15    13    15    12\n",
      "     12    13     8     9    13    21    11    14    13     9    15     8\n",
      "      7     9     7     9     4    10     9    13     6     7    10     7\n",
      "      5    12     6    10     8     9     4     5     9     7     5     5\n",
      "      6     5     6     4     5     2     9     5     1     3     7     6\n",
      "      3     5     7     4     2     2     6     3     4     1     4     2\n",
      "      3     3     3     6     2     1     1     2     1     2     1     1\n",
      "      2     3     1     2     2     2     2     1     5     4     2     2\n",
      "      1     1     1     1     3     1     1     1     1     1     1     1\n",
      "      2     1     1     2     2     2     2     1     2     1     1     2\n",
      "      1     2     1     2     1     1     1     2     1     2     1     1\n",
      "      1     1     1     1     1     1     1     1     1     1     1     1\n",
      "      1     1     2     1     1     1     1     1     1     1     1     1\n",
      "      1     1     1     1     1     1     1     1     1     1     1     1\n",
      "      1]]\n",
      "Ds & #nodes per degree=[[     1      2      3      4      5      6      7      8      9]\n",
      " [108481 179398 131476  75160  40605  23459  14038   7906   3382]]\n"
     ]
    }
   ],
   "source": [
    "aps_hyper_paper.max_component(connected_components=connected_components)"
   ]
  },
  {
   "cell_type": "code",
   "execution_count": 71,
   "id": "9e91dfde-30cd-4931-8ed4-e5ea62398221",
   "metadata": {
    "tags": []
   },
   "outputs": [],
   "source": [
    "def cd_apshyperpaper(aps_hyper_paper, given_num_groups=3, consider_ks=None, save_path=None, BHposOperator=None):\n",
    "    partition_vec, num_groups = HyperCommunityDetect().BetheHessian(aps_hyper_paper, \n",
    "                                                                    num_groups=given_num_groups,\n",
    "                                                                    consider_ks=consider_ks,\n",
    "                                                                    only_assortative=True, \n",
    "                                                                    BHposOperator=BHposOperator)\n",
    "    if save_path is None:\n",
    "        save_path = f\"./result/partition_paper_hyperBH_given{given_num_groups}Groups_consider{consider_ks}Orders.pkl\"\n",
    "    with open(save_path, \"wb\") as fw:\n",
    "            pickle.dump(partition_vec, fw)\n",
    "    return partition_vec"
   ]
  },
  {
   "cell_type": "code",
   "execution_count": 15,
   "id": "4bc44dfa-55d0-42ef-96f6-c3b17128cac1",
   "metadata": {
    "tags": []
   },
   "outputs": [],
   "source": [
    "def get_filter_paper_topics(filter_papers, topic_type=1):\n",
    "    \"\"\"\n",
    "    topic_type: 1-discipline, 2-concept\n",
    "    \"\"\"\n",
    "    filter_paper_topics = dict({filter_pid:[] for filter_pid in filter_papers})  # filtered paper id\n",
    "    paper_topics = \"./aps/meta/publication_topics.csv\"\n",
    "    with open(paper_topics, 'r') as fr:\n",
    "        fr.readline()\n",
    "        annoted_papers = set()\n",
    "        for line in tqdm(fr.readlines(), desc='Load paper_topics'):\n",
    "            line = line.strip().split(',')\n",
    "            annoted_papers.add(int(line[0]))\n",
    "            if int(line[2]) == topic_type:  # topic type is discipline\n",
    "                # paper id in filtered paper which have author (remove unexist paperid) and \n",
    "                # whose author have more than 1 paper (remove the paper whose authors only have this paper).\n",
    "                if int(line[0]) in filter_paper_topics.keys():\n",
    "                    filter_paper_topics[int(line[0])].append(int(line[1]))  # add topic id\n",
    "                else:\n",
    "                    pass\n",
    "        print(f\"There are {len(annoted_papers)} papers annoted\")\n",
    "        filter_paper_topic_nums = [len(temp) for temp in filter_paper_topics.values()]\n",
    "        print(f\"unique topic_num per filter paper & their counts\\n: {np.unique(filter_paper_topic_nums, return_counts=True)}\")\n",
    "        return filter_paper_topics"
   ]
  },
  {
   "cell_type": "code",
   "execution_count": 16,
   "id": "8d3e4084-2997-4b1a-9d8f-deb54081b43a",
   "metadata": {
    "tags": []
   },
   "outputs": [],
   "source": [
    "def get_cm(trueMeta, cdLabel):\n",
    "    \"\"\"\n",
    "    trueMeta: {nodeId: [metas]}\n",
    "    cdLabel: {nodeId: cd label}\n",
    "    \"\"\"\n",
    "    trueMetaLabels = set()\n",
    "    cdLabels = set()\n",
    "    for node in trueMeta.keys():\n",
    "        for l in trueMeta[node]:\n",
    "            trueMetaLabels.add(l)\n",
    "        cdLabels.add(cdLabel[node])\n",
    "    confusionMatrix = np.zeros((len(trueMetaLabels), len(cdLabels)))\n",
    "    trueMetaLabels = np.array(sorted(list(trueMetaLabels)))\n",
    "    cdLabels = np.array(sorted(list(cdLabels)))\n",
    "    for iTrue in trueMetaLabels:\n",
    "        trueIndex = []\n",
    "        for node in trueMeta.keys():\n",
    "            if iTrue in trueMeta[node]:\n",
    "                trueIndex.append(node)\n",
    "        for iCD in cdLabels:\n",
    "            i = np.where(trueMetaLabels == iTrue)\n",
    "            j = np.where(cdLabels == iCD)\n",
    "            num_fit = 0\n",
    "            for node in trueIndex:\n",
    "                if cdLabel[node] == iCD:\n",
    "                    num_fit += 1\n",
    "            confusionMatrix[i, j] = num_fit\n",
    "    # print(confusionMatrix)\n",
    "    true_ind, CD_ind = linear_sum_assignment(confusionMatrix, maximize=True)\n",
    "    print(f'True index is {true_ind}, Community detected index is {CD_ind}')\n",
    "    confusionMatrix[:, np.sort(CD_ind)] = confusionMatrix[:, CD_ind]\n",
    "    df = pandas.DataFrame(confusionMatrix, trueMetaLabels, cdLabels)\n",
    "    return confusionMatrix, CD_ind, df"
   ]
  },
  {
   "cell_type": "code",
   "execution_count": 26,
   "id": "6da596da-a9e3-4073-84e3-96cbf6e281a7",
   "metadata": {
    "tags": []
   },
   "outputs": [],
   "source": [
    "def truncate_colormap(cmap, minval=0.0, maxval=1.0, n=100):\n",
    "    new_cmap = colors.LinearSegmentedColormap.from_list(\n",
    "        'trunc({n},{a:.2f},{b:.2f})'.format(n=cmap.name, a=minval, b=maxval),\n",
    "        cmap(np.linspace(minval, maxval, n)))\n",
    "    return new_cmap"
   ]
  },
  {
   "cell_type": "code",
   "execution_count": 20,
   "id": "12cb3a0c-a270-4b7f-a95f-1c0a7eb645dd",
   "metadata": {
    "tags": []
   },
   "outputs": [],
   "source": [
    "def plot_cm(confusionMatrix, fig=None, ax=None):\n",
    "    subTrueNumgroup,subBHNumgroup = np.shape(confusionMatrix)\n",
    "    rowsum = np.sum(confusionMatrix, axis=1)\n",
    "    rowsum = rowsum.reshape(-1, 1)\n",
    "    rowsum = np.repeat(rowsum, subBHNumgroup, axis=1)\n",
    "    normConfusionMatrix = np.round(confusionMatrix / rowsum, 2)\n",
    "    if fig is None and ax is None:\n",
    "        fig = plt.figure(figsize=(3, 3))\n",
    "        widths = [4]\n",
    "        heights = [4]\n",
    "        spec5 = fig.add_gridspec(ncols=1, nrows=1, width_ratios=widths, height_ratios=heights)\n",
    "        row = 0\n",
    "        col = 0\n",
    "        ax = fig.add_subplot(spec5[row, col])\n",
    "#     cmap = mpl.colormaps[\"bwr_r\"]\n",
    "#     cmap = mpl.colormaps[\"RdYlBu\"]\n",
    "    cmap = mpl.colormaps[\"seismic_r\"]\n",
    "    cmap = truncate_colormap(cmap, 0.3, 0.7)\n",
    "    im = ax.matshow(normConfusionMatrix, cmap=cmap, vmin=0, vmax=1)\n",
    "    for i in range(subTrueNumgroup):\n",
    "        for j in range(subBHNumgroup):\n",
    "            c = normConfusionMatrix[i,j]\n",
    "            ax.text(j, i, str(c), va='center', ha='center', fontsize=3)\n",
    "    plt.xticks(fontsize=10)\n",
    "    plt.yticks(fontsize=10)\n",
    "    return im"
   ]
  },
  {
   "cell_type": "markdown",
   "id": "a947f5a4-48a8-45b3-bbc1-57fc2b0cee87",
   "metadata": {
    "tags": []
   },
   "source": [
    "## CD with hyper bh"
   ]
  },
  {
   "cell_type": "code",
   "execution_count": 62,
   "id": "0c37be48-594d-497f-b3cf-d14a19699ed1",
   "metadata": {
    "tags": []
   },
   "outputs": [
    {
     "name": "stderr",
     "output_type": "stream",
     "text": [
      "Constructing HyperBH...: 100%|██████████| 277/277 [23:52<00:00,  5.17s/it]\n"
     ]
    },
    {
     "name": "stdout",
     "output_type": "stream",
     "text": [
      "EVECs construct: 1615.301501750946\n"
     ]
    }
   ],
   "source": [
    "given_num_groups = 51\n",
    "consider_ks = None\n",
    "save_path = f\"./result/partition_paper_hyperBH_maxcomponent_given{given_num_groups}Groups_consider{consider_ks}Orders.pkl\"\n",
    "partition_vec = cd_apshyperpaper(aps_hyper_paper, given_num_groups=given_num_groups, consider_ks=consider_ks, save_path=save_path)"
   ]
  },
  {
   "cell_type": "code",
   "execution_count": 63,
   "id": "06f754a8-32e0-4888-afbd-65fffd21a786",
   "metadata": {
    "tags": []
   },
   "outputs": [
    {
     "name": "stdout",
     "output_type": "stream",
     "text": [
      "[0 0 0 ... 0 0 0]\n"
     ]
    },
    {
     "data": {
      "text/plain": [
       "(array([ 0,  1,  2,  3,  4,  5,  6,  7,  8,  9, 10, 11, 12, 13, 14, 15, 16,\n",
       "        17, 18, 19, 20, 21, 22, 23, 24, 25, 26, 27, 28, 29, 30, 31, 32, 33,\n",
       "        34, 35, 36, 37, 38, 39, 40, 41, 42, 43, 44, 45, 46, 47, 48, 49, 50],\n",
       "       dtype=int32),\n",
       " array([563672,     29,     20,     81,     65,    166,     21,     64,\n",
       "            24,     41,     13,     28,     90,     21,     35,     63,\n",
       "            54,    236,     25,    103,     62,      8,     38,     32,\n",
       "            60,    126,     43,     23,    236,     92,     65,    156,\n",
       "           398,  10325,    435,     49,     42,    261,     50,     27,\n",
       "            25,   2924,     42,   1773,     60,    271,     51,    666,\n",
       "           593,     73,     48]))"
      ]
     },
     "execution_count": 63,
     "metadata": {},
     "output_type": "execute_result"
    }
   ],
   "source": [
    "print(partition_vec)\n",
    "np.unique(partition_vec, return_counts=True)"
   ]
  },
  {
   "cell_type": "code",
   "execution_count": 64,
   "id": "c1875da8-a768-4365-8480-cc36b81973fb",
   "metadata": {
    "tags": []
   },
   "outputs": [
    {
     "name": "stdout",
     "output_type": "stream",
     "text": [
      "Consider Orders with greater than 20 hyperedges: [2, 3, 4, 5, 6, 7, 8, 9, 10, 11, 12, 13, 14, 15, 16, 17, 18, 19, 20, 21, 22, 23, 24, 25, 26, 27, 28, 29, 30, 31, 32, 33, 34, 35, 36, 37, 38, 39, 40, 41, 42, 43, 44, 45, 46, 47, 48, 49, 50, 51, 52, 53, 54, 55, 56, 57, 58, 59, 60, 61, 62, 63, 64, 65, 66, 67, 68, 69, 70, 71, 72, 73, 74, 75, 76, 77, 78, 79, 80, 81, 82, 83, 84, 85, 86, 87, 88, 89, 90, 91, 92, 93, 94, 95, 96, 97, 98, 99, 100, 101, 102, 105, 108, 109, 110, 112, 117, 127]\n"
     ]
    },
    {
     "name": "stderr",
     "output_type": "stream",
     "text": [
      "Constructing HyperBH...: 100%|██████████| 108/108 [09:03<00:00,  5.03s/it]\n"
     ]
    },
    {
     "name": "stdout",
     "output_type": "stream",
     "text": [
      "EVECs construct: 756.4003014564514\n"
     ]
    }
   ],
   "source": [
    "start = time.time()\n",
    "given_num_groups = 51\n",
    "edge_order, order_count = np.unique(aps_hyper_paper.H.sum(axis=0).flatten(), return_counts=True)\n",
    "consider_ks = []\n",
    "for i in range(np.size(order_count)):\n",
    "    if order_count[i] > 20:\n",
    "        consider_ks.append(edge_order[i])\n",
    "print(f\"Consider Orders with greater than 20 hyperedges: {consider_ks}\")\n",
    "# consider_ks = None\n",
    "save_path = f\"./result/partition_paper_hyperBH_maxcomponent_given{given_num_groups}Groups_considerOrdersWithGreaterThan20hedges.pkl\"\n",
    "partition_vec = cd_apshyperpaper(aps_hyper_paper, given_num_groups=given_num_groups, consider_ks=consider_ks, save_path=save_path)\n",
    "print(f\"Time cost {time.time()-start}\")"
   ]
  },
  {
   "cell_type": "code",
   "execution_count": 65,
   "id": "4f2bc325-970a-494a-af9a-c8a5af23fb2b",
   "metadata": {
    "tags": []
   },
   "outputs": [
    {
     "name": "stdout",
     "output_type": "stream",
     "text": [
      "[0 0 0 ... 0 0 0]\n"
     ]
    },
    {
     "data": {
      "text/plain": [
       "(array([ 0,  1,  2,  3,  4,  5,  6,  7,  8,  9, 10, 11, 12, 13, 14, 15, 16,\n",
       "        17, 18, 19, 20, 21, 22, 23, 24, 25, 26, 27, 28, 29, 30, 31, 32, 33,\n",
       "        34, 35, 36, 37, 38, 39, 40, 41, 42, 43, 44, 45, 46, 47, 48, 49, 50],\n",
       "       dtype=int32),\n",
       " array([569175,     35,    127,     20,     24,     21,     28,     25,\n",
       "            38,     54,     62,     83,      8,     40,     33,     27,\n",
       "            29,     48,     21,     65,     92,     32,     13,     69,\n",
       "            90,     65,     43,     65,     42,     42,     25,     33,\n",
       "            67,     40,     24,     48,     73,     64,     73,     39,\n",
       "           217,    100,    813,    103,     81,     11,    163,     49,\n",
       "          9135,     23,   2208]))"
      ]
     },
     "execution_count": 65,
     "metadata": {},
     "output_type": "execute_result"
    }
   ],
   "source": [
    "print(partition_vec)\n",
    "np.unique(partition_vec, return_counts=True)"
   ]
  },
  {
   "cell_type": "code",
   "execution_count": 66,
   "id": "b01c5b37-c18d-4a6e-a886-b169c2d61a7d",
   "metadata": {
    "tags": []
   },
   "outputs": [
    {
     "name": "stdout",
     "output_type": "stream",
     "text": [
      "Consider Orders with greater than 1000 hyperedges: [2, 3, 4, 5, 6, 7, 8, 9, 10, 11, 12, 13, 14, 15, 16, 17, 18, 19, 20, 21]\n"
     ]
    },
    {
     "name": "stderr",
     "output_type": "stream",
     "text": [
      "Constructing HyperBH...: 100%|██████████| 20/20 [00:04<00:00,  4.49it/s]\n"
     ]
    },
    {
     "name": "stdout",
     "output_type": "stream",
     "text": [
      "EVECs construct: 169.9487862586975\n",
      "Time cost 360.5722007751465\n"
     ]
    }
   ],
   "source": [
    "start = time.time()\n",
    "given_num_groups = 51\n",
    "edge_order, order_count = np.unique(aps_hyper_paper.H.sum(axis=0).flatten(), return_counts=True)\n",
    "consider_ks = []\n",
    "for i in range(np.size(order_count)):\n",
    "    if order_count[i] > 1000:\n",
    "        consider_ks.append(edge_order[i])\n",
    "print(f\"Consider Orders with greater than 1000 hyperedges: {consider_ks}\")\n",
    "# consider_ks = None\n",
    "save_path = f\"./result/partition_paper_hyperBH_maxcomponent_given{given_num_groups}Groups_considerOrdersWithGreaterThan1000hedges.pkl\"\n",
    "partition_vec = cd_apshyperpaper(aps_hyper_paper, given_num_groups=given_num_groups, consider_ks=consider_ks, save_path=save_path)\n",
    "print(f\"Time cost {time.time()-start}\")"
   ]
  },
  {
   "cell_type": "code",
   "execution_count": 67,
   "id": "56684aa1-8fa2-4092-8d13-5243e2556031",
   "metadata": {
    "tags": []
   },
   "outputs": [
    {
     "name": "stdout",
     "output_type": "stream",
     "text": [
      "[0 0 0 ... 0 0 0]\n"
     ]
    },
    {
     "data": {
      "text/plain": [
       "(array([ 0,  1,  2,  3,  4,  5,  6,  7,  8,  9, 10, 11, 12, 13, 14, 15, 16,\n",
       "        17, 18, 19, 20, 21, 22, 23, 24, 25, 26, 27, 28, 29, 30, 31, 32, 33,\n",
       "        34, 35, 36, 37, 38, 39, 40, 41, 42, 43, 44, 45, 46, 47, 48, 49, 50],\n",
       "       dtype=int32),\n",
       " array([583086,     13,     16,     13,     20,     12,     25,      5,\n",
       "            20,     11,     19,     11,     10,      9,     11,     15,\n",
       "             8,     17,     13,      5,     16,     17,     18,     14,\n",
       "            15,     13,     27,     13,     13,     20,     15,     10,\n",
       "            10,     16,      9,     14,     18,     11,     17,     48,\n",
       "             7,     25,     64,     18,      9,     12,     15,     11,\n",
       "            22,      6,     43]))"
      ]
     },
     "execution_count": 67,
     "metadata": {},
     "output_type": "execute_result"
    }
   ],
   "source": [
    "print(partition_vec)\n",
    "np.unique(partition_vec, return_counts=True)"
   ]
  },
  {
   "cell_type": "code",
   "execution_count": 68,
   "id": "5d5673f5-fdaf-40b7-bfad-ae501099a0d8",
   "metadata": {
    "tags": []
   },
   "outputs": [
    {
     "name": "stdout",
     "output_type": "stream",
     "text": [
      "Consider Orders: [2, 3, 4, 5]\n"
     ]
    },
    {
     "name": "stderr",
     "output_type": "stream",
     "text": [
      "Constructing HyperBH...: 100%|██████████| 4/4 [00:00<00:00,  7.81it/s]\n"
     ]
    },
    {
     "name": "stdout",
     "output_type": "stream",
     "text": [
      "EVECs construct: 147.9569549560547\n",
      "Time cost 386.3707718849182\n"
     ]
    }
   ],
   "source": [
    "start = time.time()\n",
    "given_num_groups = 51\n",
    "edge_order, order_count = np.unique(aps_hyper_paper.H.sum(axis=0).flatten(), return_counts=True)\n",
    "consider_ks = [2, 3, 4, 5]\n",
    "print(f\"Consider Orders: {consider_ks}\")\n",
    "# consider_ks = None\n",
    "save_path = f\"./result/partition_paper_hyperBH_maxcomponent_given{given_num_groups}Groups_considerOrders{consider_ks}.pkl\"\n",
    "partition_vec = cd_apshyperpaper(aps_hyper_paper, given_num_groups=given_num_groups, consider_ks=consider_ks, save_path=save_path)\n",
    "print(f\"Time cost {time.time()-start}\")"
   ]
  },
  {
   "cell_type": "code",
   "execution_count": 70,
   "id": "c830c1a4-7bab-43ef-aa6f-1a3555a42f54",
   "metadata": {
    "tags": []
   },
   "outputs": [
    {
     "name": "stdout",
     "output_type": "stream",
     "text": [
      "[0 0 0 ... 0 0 0]\n"
     ]
    },
    {
     "data": {
      "text/plain": [
       "(array([ 0,  1,  2,  3,  4,  5,  6,  7,  8,  9, 10, 11, 12, 13, 14, 15, 16,\n",
       "        17, 18, 19, 20, 21, 22, 23, 24, 25, 26, 27, 28, 29, 30, 31, 32, 33,\n",
       "        34, 35, 36, 37, 38, 39, 40, 41, 42, 43, 44, 45, 46, 47, 48, 49, 50],\n",
       "       dtype=int32),\n",
       " array([583687,      4,      4,      5,      5,      5,      4,      5,\n",
       "             4,      3,      4,      5,      5,      5,      5,      3,\n",
       "             5,      4,      4,      3,      5,      4,      4,      3,\n",
       "             4,      5,      4,      4,      5,      4,      5,      3,\n",
       "             5,      5,      4,      5,      5,      5,      5,      3,\n",
       "             5,      4,      5,      3,      4,      4,      3,      5,\n",
       "             7,      5,      4]))"
      ]
     },
     "execution_count": 70,
     "metadata": {},
     "output_type": "execute_result"
    }
   ],
   "source": [
    "print(partition_vec)\n",
    "np.unique(partition_vec, return_counts=True)"
   ]
  },
  {
   "cell_type": "code",
   "execution_count": 79,
   "id": "c24945d9-8e0e-4352-93e7-ef3a9a09fa89",
   "metadata": {
    "tags": []
   },
   "outputs": [
    {
     "name": "stdout",
     "output_type": "stream",
     "text": [
      "Consider Orders: None\n",
      "EVECs construct: 1101.066344499588\n",
      "Time cost 3040.2490570545197\n"
     ]
    }
   ],
   "source": [
    "start = time.time()\n",
    "given_num_groups = 168\n",
    "edge_order, order_count = np.unique(aps_hyper_paper.H.sum(axis=0).flatten(), return_counts=True)\n",
    "consider_ks = None\n",
    "print(f\"Consider Orders: {consider_ks}\")\n",
    "# consider_ks = None\n",
    "save_path = f\"./result/partition_paper_hyperBH_maxcomponent_given{given_num_groups}Groups_considerOrders{consider_ks}.pkl\"\n",
    "partition_vec = cd_apshyperpaper(aps_hyper_paper, given_num_groups=given_num_groups, consider_ks=consider_ks, \n",
    "                                 save_path=save_path, BHposOperator=BH.operator)\n",
    "print(f\"Time cost {time.time()-start}\")"
   ]
  },
  {
   "cell_type": "code",
   "execution_count": 80,
   "id": "eb8e42d2-27f2-4038-b567-1eb154d8dc46",
   "metadata": {
    "tags": []
   },
   "outputs": [
    {
     "name": "stdout",
     "output_type": "stream",
     "text": [
      "[0 0 0 ... 0 0 0]\n"
     ]
    },
    {
     "data": {
      "text/plain": [
       "(array([  0,   1,   2,   3,   4,   5,   6,   7,   8,   9,  10,  11,  12,\n",
       "         13,  14,  15,  16,  17,  18,  19,  20,  21,  22,  23,  24,  25,\n",
       "         26,  27,  28,  29,  30,  31,  32,  33,  34,  35,  36,  37,  38,\n",
       "         39,  40,  41,  42,  43,  44,  45,  46,  47,  48,  49,  50,  51,\n",
       "         52,  53,  54,  55,  56,  57,  58,  59,  60,  61,  62,  63,  64,\n",
       "         65,  66,  67,  68,  69,  70,  71,  72,  73,  74,  75,  76,  77,\n",
       "         78,  79,  80,  81,  82,  83,  84,  85,  86,  87,  88,  89,  90,\n",
       "         91,  92,  93,  94,  95,  96,  97,  98,  99, 100, 101, 102, 103,\n",
       "        104, 105, 106, 107, 108, 109, 110, 111, 112, 113, 114, 115, 116,\n",
       "        117, 118, 119, 120, 121, 122, 123, 124, 125, 126, 127, 128, 129,\n",
       "        130, 131, 132, 133, 134, 135, 136, 137, 138, 139, 140, 141, 142,\n",
       "        143, 144, 145, 146, 147, 148, 149, 150, 151, 152, 153, 154, 155,\n",
       "        156, 157, 158, 159, 160, 161, 162, 163, 164, 165, 166, 167],\n",
       "       dtype=int32),\n",
       " array([554436,     90,     62,     66,    134,     73,     28,      8,\n",
       "            64,     41,     21,    597,     62,     40,     90,     29,\n",
       "            20,     37,     23,     65,     24,    165,     41,     47,\n",
       "            73,     20,     63,     35,     48,     34,     26,     15,\n",
       "           818,     25,     28,     13,     11,    234,     10,    253,\n",
       "            34,     23,     54,     14,     35,     42,     40,     47,\n",
       "            18,     27,     86,     14,    154,    103,    575,     24,\n",
       "            51,    119,     38,     87,    315,     63,     11,     38,\n",
       "            79,     13,     60,     56,     45,     65,    782,    261,\n",
       "            28,     40,     92,     60,     53,     21,     81,     38,\n",
       "           224,     21,     30,     34,    104,    157,     59,     32,\n",
       "           122,    103,     43,     74,    200,     84,     25,      6,\n",
       "           151,    509,    400,    678,     40,    317,    147,    154,\n",
       "            69,    251,     68,    327,     81,     33,    467,     71,\n",
       "            91,     45,    454,     55,    484,     74,    403,    465,\n",
       "            88,     83,     51,     81,    155,    111,    365,    146,\n",
       "            25,    444,    117,    383,    263,    151,    381,    394,\n",
       "           404,    231,     60,     86,    256,    241,     37,    203,\n",
       "            70,     26,    119,    602,    160,     23,    364,     87,\n",
       "           297,     44,    458,    452,    236,    472,    108,   3652,\n",
       "           171,    333,    137,    138,    617,     42,   1544,     90]))"
      ]
     },
     "execution_count": 80,
     "metadata": {},
     "output_type": "execute_result"
    }
   ],
   "source": [
    "print(partition_vec)\n",
    "np.unique(partition_vec, return_counts=True)"
   ]
  },
  {
   "cell_type": "code",
   "execution_count": 94,
   "id": "78d652cd-36e1-410b-a1ae-d7c727434fe3",
   "metadata": {
    "tags": []
   },
   "outputs": [
    {
     "name": "stderr",
     "output_type": "stream",
     "text": [
      "Load paper_topics: 100%|██████████| 597018/597018 [00:00<00:00, 678092.71it/s]\n",
      "Load areas: 100%|██████████| 45/45 [00:00<00:00, 346318.68it/s]\n",
      "Load disciplines: 100%|██████████| 17/17 [00:00<00:00, 203723.34it/s]\n",
      "Load concepts: 100%|██████████| 3071/3071 [00:00<00:00, 910747.90it/s]\n",
      "Load papers: 100%|██████████| 678916/678916 [00:04<00:00, 168034.30it/s]\n"
     ]
    }
   ],
   "source": [
    "save_path = f\"./result/partition_paper_hyperBH_maxcomponent_given{given_num_groups}Groups_considerOrders{consider_ks}.csv\"\n",
    "aps.papers_info(aps_hyper_paper.nodes, partition_vec, save_path=save_path)"
   ]
  },
  {
   "cell_type": "markdown",
   "id": "01d5491b-f4b4-4305-8764-631c91398dfe",
   "metadata": {
    "jp-MarkdownHeadingCollapsed": true,
    "tags": []
   },
   "source": [
    "## visulization with confusion matrix"
   ]
  },
  {
   "cell_type": "code",
   "execution_count": 24,
   "id": "275559eb-d086-40bd-a593-4f8059643623",
   "metadata": {
    "tags": []
   },
   "outputs": [
    {
     "name": "stderr",
     "output_type": "stream",
     "text": [
      "Load paper_topics: 100%|██████████| 597018/597018 [00:00<00:00, 767678.22it/s]\n"
     ]
    },
    {
     "name": "stdout",
     "output_type": "stream",
     "text": [
      "There are 101277 papers annoted\n",
      "unique topic_num per filter paper & their counts\n",
      ": (array([ 0,  1,  2,  3,  4,  5,  6,  7,  8,  9, 10, 11, 17]), array([516730,  63593,  15490,   5153,   1452,    403,    116,     38,\n",
      "            9,      4,      1,      1,     10]))\n"
     ]
    }
   ],
   "source": [
    "filter_paper_topics = get_filter_paper_topics(filter_papers=aps_hyper_paper.nondegree0_row[0], topic_type=1)\n",
    "filter_paper_cdlabel = dict(zip(aps_hyper_paper.nondegree0_row[0], partition_vec))\n",
    "components_vec = np.zeros(np.size(aps_hyper_paper.nondegree0_row[0]))\n",
    "component_id = 0\n",
    "for nodes in connected_components:\n",
    "    for node in nodes:\n",
    "        components_vec[node] = component_id\n",
    "    component_id += 1\n",
    "filter_paper_components = dict(zip(aps_hyper_paper.nondegree0_row[0], components_vec))"
   ]
  },
  {
   "cell_type": "code",
   "execution_count": 21,
   "id": "8004fe7c-ec71-4a07-83ed-a69a7cb1b9c1",
   "metadata": {
    "tags": []
   },
   "outputs": [
    {
     "name": "stdout",
     "output_type": "stream",
     "text": [
      "True index is [ 0  1  2  3  4  5  6  7  8  9 10 11 12 13 14 15 16], Community detected index is [37  1 49 33 27 40  0 31  2  5 47 50 41  3  4 44 20]\n"
     ]
    },
    {
     "data": {
      "text/plain": [
       "<matplotlib.image.AxesImage at 0x7fa8dc9758a0>"
      ]
     },
     "execution_count": 21,
     "metadata": {},
     "output_type": "execute_result"
    },
    {
     "data": {
      "image/png": "[encoded data removed]",
      "text/plain": [
       "<Figure size 800x800 with 1 Axes>"
      ]
     },
     "metadata": {
      "image/png": {
       "height": 254,
       "width": 670
      }
     },
     "output_type": "display_data"
    }
   ],
   "source": [
    "cm, _, df = get_cm(filter_paper_topics, filter_paper_cdlabel)\n",
    "fig = plt.figure(figsize=(8, 8))\n",
    "widths = [4]\n",
    "heights = [4]\n",
    "spec5 = fig.add_gridspec(ncols=1, nrows=1, width_ratios=widths, height_ratios=heights)\n",
    "row = 0\n",
    "col = 0\n",
    "ax = fig.add_subplot(spec5[row, col])\n",
    "plot_cm(cm, fig=fig, ax=ax)"
   ]
  },
  {
   "cell_type": "code",
   "execution_count": null,
   "id": "9e5389dd-971b-4bc2-a852-5200af6506b2",
   "metadata": {},
   "outputs": [],
   "source": [
    "path = f'./result/aps_hyperpaper_cm_giveq={given_num_groups}.xlsx'\n",
    "with pandas.ExcelWriter(path) as writer:\n",
    "    df.to_excel(excel_writer=writer)\n",
    "    writer.save()"
   ]
  },
  {
   "cell_type": "markdown",
   "id": "39cdc0be-1276-49e4-b6e7-73793485af6b",
   "metadata": {
    "jp-MarkdownHeadingCollapsed": true,
    "tags": []
   },
   "source": [
    "## compare partition and connected component"
   ]
  },
  {
   "cell_type": "code",
   "execution_count": 27,
   "id": "b6ede962-1d75-4ae5-8f5c-14af457b4276",
   "metadata": {
    "tags": []
   },
   "outputs": [
    {
     "name": "stdout",
     "output_type": "stream",
     "text": [
      "True index is [ 0  1  2  3  4  5  6  7  8  9 10 11 12 13 14 15 16 17 18 19 20 21 22 23\n",
      " 24 25 26 27 28 29 30 31 32 33 34 35 36 37 38 39 40 41 42 43 44 45 46 47\n",
      " 48 49 50], Community detected index is [ 0  1  2  3  4  5  6  7  8  9 10 11 12 13 14 15 16 17 18 19 20 21 22 23\n",
      " 24 25 26 27 28 29 30 31 32 33 34 35 36 37 38 39 40 41 42 43 44 45 46 47\n",
      " 48 49 50]\n"
     ]
    }
   ],
   "source": [
    "cm, _ = get_confusionmatrix(partition_vec, components_vec, \n",
    "                            trueNumgroup=given_num_groups, \n",
    "                            cdNumgroup=len(connected_components))\n",
    "# fig = plt.figure(figsize=(8, 8))\n",
    "# widths = [4]\n",
    "# heights = [4]\n",
    "# spec5 = fig.add_gridspec(ncols=1, nrows=1, width_ratios=widths, height_ratios=heights)\n",
    "# row = 0\n",
    "# col = 0\n",
    "# ax = fig.add_subplot(spec5[row, col])\n",
    "# plot_cm(cm, fig=fig, ax=ax)"
   ]
  },
  {
   "cell_type": "code",
   "execution_count": 29,
   "id": "d452ba9c-763f-4553-b440-49660fb4039e",
   "metadata": {
    "tags": []
   },
   "outputs": [],
   "source": [
    "uniquePartition = np.unique(partition_vec)\n",
    "uniqueComponent = np.unique(components_vec)\n",
    "df = pandas.DataFrame(cm, uniquePartition, uniqueComponent)\n",
    "path = f'./result/aps_hyperpaper_partition_component_cm_giveq={given_num_groups}.xlsx'\n",
    "with pandas.ExcelWriter(path) as writer:\n",
    "    df.to_excel(excel_writer=writer)\n",
    "    writer._save()"
   ]
  },
  {
   "cell_type": "code",
   "execution_count": 30,
   "id": "060f7b99-ffa4-4182-b972-217292ad5e4c",
   "metadata": {
    "collapsed": true,
    "jupyter": {
     "outputs_hidden": true
    },
    "tags": []
   },
   "outputs": [
    {
     "name": "stdout",
     "output_type": "stream",
     "text": [
      "      0.0     1.0     2.0     3.0     4.0     5.0     6.0     7.0     8.0     \\\n",
      "0   559786.0     2.0     7.0     5.0     2.0     3.0     2.0     2.0     6.0   \n",
      "1       23.0     0.0     0.0     0.0     0.0     0.0     0.0     0.0     0.0   \n",
      "2       90.0     0.0     0.0     0.0     0.0     0.0     0.0     0.0     0.0   \n",
      "3       13.0     0.0     0.0     0.0     0.0     0.0     0.0     0.0     0.0   \n",
      "4       41.0     0.0     0.0     0.0     0.0     0.0     0.0     0.0     0.0   \n",
      "5       54.0     0.0     0.0     0.0     0.0     0.0     0.0     0.0     0.0   \n",
      "6       60.0     0.0     0.0     0.0     0.0     0.0     0.0     0.0     0.0   \n",
      "7      126.0     0.0     0.0     0.0     0.0     0.0     0.0     0.0     0.0   \n",
      "8        8.0     0.0     0.0     0.0     0.0     0.0     0.0     0.0     0.0   \n",
      "9       21.0     0.0     0.0     0.0     0.0     0.0     0.0     0.0     0.0   \n",
      "10      62.0     0.0     0.0     0.0     0.0     0.0     0.0     0.0     0.0   \n",
      "11      20.0     0.0     0.0     0.0     0.0     0.0     0.0     0.0     0.0   \n",
      "12      25.0     0.0     0.0     0.0     0.0     0.0     0.0     0.0     0.0   \n",
      "13     596.0     0.0     0.0     0.0     0.0     0.0     0.0     0.0     0.0   \n",
      "14     236.0     0.0     0.0     0.0     0.0     0.0     0.0     0.0     0.0   \n",
      "15      63.0     0.0     0.0     0.0     0.0     0.0     0.0     0.0     0.0   \n",
      "16     166.0     0.0     0.0     0.0     0.0     0.0     0.0     0.0     0.0   \n",
      "17     104.0     0.0     0.0     0.0     0.0     0.0     0.0     0.0     0.0   \n",
      "18      48.0     0.0     0.0     0.0     0.0     0.0     0.0     0.0     0.0   \n",
      "19      32.0     0.0     0.0     0.0     0.0     0.0     0.0     0.0     0.0   \n",
      "20     399.0     0.0     0.0     0.0     0.0     0.0     0.0     0.0     0.0   \n",
      "21     156.0     0.0     0.0     0.0     0.0     0.0     0.0     0.0     0.0   \n",
      "22      35.0     0.0     0.0     0.0     0.0     0.0     0.0     0.0     0.0   \n",
      "23      72.0     0.0     0.0     0.0     0.0     0.0     0.0     0.0     0.0   \n",
      "24     236.0     0.0     0.0     0.0     0.0     0.0     0.0     0.0     0.0   \n",
      "25      24.0     0.0     0.0     0.0     0.0     0.0     0.0     0.0     0.0   \n",
      "26      29.0     0.0     0.0     0.0     0.0     0.0     0.0     0.0     0.0   \n",
      "27      92.0     0.0     0.0     0.0     0.0     0.0     0.0     0.0     0.0   \n",
      "28      65.0     0.0     0.0     0.0     0.0     0.0     0.0     0.0     0.0   \n",
      "29      54.0     0.0     0.0     0.0     0.0     0.0     0.0     0.0     0.0   \n",
      "30      65.0     0.0     0.0     0.0     0.0     0.0     0.0     0.0     0.0   \n",
      "31     437.0     0.0     0.0     0.0     0.0     0.0     0.0     0.0     0.0   \n",
      "32      21.0     0.0     0.0     0.0     0.0     0.0     0.0     0.0     0.0   \n",
      "33    7137.0     0.0     0.0     0.0     0.0     0.0     0.0     0.0     0.0   \n",
      "34      59.0     0.0     0.0     0.0     0.0     0.0     0.0     0.0     0.0   \n",
      "35      64.0     0.0     0.0     0.0     0.0     0.0     0.0     0.0     0.0   \n",
      "36      38.0     0.0     0.0     0.0     0.0     0.0     0.0     0.0     0.0   \n",
      "37    2685.0     0.0     0.0     0.0     0.0     0.0     0.0     0.0     0.0   \n",
      "38      42.0     0.0     0.0     0.0     0.0     0.0     0.0     0.0     0.0   \n",
      "39      55.0     0.0     0.0     0.0     0.0     0.0     0.0     0.0     0.0   \n",
      "40    7118.0     0.0     0.0     0.0     0.0     0.0     0.0     0.0     0.0   \n",
      "41     267.0     0.0     0.0     0.0     0.0     0.0     0.0     0.0     0.0   \n",
      "42      73.0     0.0     0.0     0.0     0.0     0.0     0.0     0.0     0.0   \n",
      "43      27.0     0.0     0.0     0.0     0.0     0.0     0.0     0.0     0.0   \n",
      "44      81.0     0.0     0.0     0.0     0.0     0.0     0.0     0.0     0.0   \n",
      "45      23.0     0.0     0.0     0.0     0.0     0.0     0.0     0.0     0.0   \n",
      "46      28.0     0.0     0.0     0.0     0.0     0.0     0.0     0.0     0.0   \n",
      "47     683.0     0.0     0.0     0.0     0.0     0.0     0.0     0.0     0.0   \n",
      "48    1783.0     0.0     0.0     0.0     0.0     0.0     0.0     0.0     0.0   \n",
      "49     267.0     0.0     0.0     0.0     0.0     0.0     0.0     0.0     0.0   \n",
      "50     216.0     0.0     0.0     0.0     0.0     0.0     0.0     0.0     0.0   \n",
      "\n",
      "    9.0     ...  5665.0  5666.0  5667.0  5668.0  5669.0  5670.0  5671.0  \\\n",
      "0      2.0  ...     2.0     2.0     6.0     2.0     2.0     5.0     3.0   \n",
      "1      0.0  ...     0.0     0.0     0.0     0.0     0.0     0.0     0.0   \n",
      "2      0.0  ...     0.0     0.0     0.0     0.0     0.0     0.0     0.0   \n",
      "3      0.0  ...     0.0     0.0     0.0     0.0     0.0     0.0     0.0   \n",
      "4      0.0  ...     0.0     0.0     0.0     0.0     0.0     0.0     0.0   \n",
      "5      0.0  ...     0.0     0.0     0.0     0.0     0.0     0.0     0.0   \n",
      "6      0.0  ...     0.0     0.0     0.0     0.0     0.0     0.0     0.0   \n",
      "7      0.0  ...     0.0     0.0     0.0     0.0     0.0     0.0     0.0   \n",
      "8      0.0  ...     0.0     0.0     0.0     0.0     0.0     0.0     0.0   \n",
      "9      0.0  ...     0.0     0.0     0.0     0.0     0.0     0.0     0.0   \n",
      "10     0.0  ...     0.0     0.0     0.0     0.0     0.0     0.0     0.0   \n",
      "11     0.0  ...     0.0     0.0     0.0     0.0     0.0     0.0     0.0   \n",
      "12     0.0  ...     0.0     0.0     0.0     0.0     0.0     0.0     0.0   \n",
      "13     0.0  ...     0.0     0.0     0.0     0.0     0.0     0.0     0.0   \n",
      "14     0.0  ...     0.0     0.0     0.0     0.0     0.0     0.0     0.0   \n",
      "15     0.0  ...     0.0     0.0     0.0     0.0     0.0     0.0     0.0   \n",
      "16     0.0  ...     0.0     0.0     0.0     0.0     0.0     0.0     0.0   \n",
      "17     0.0  ...     0.0     0.0     0.0     0.0     0.0     0.0     0.0   \n",
      "18     0.0  ...     0.0     0.0     0.0     0.0     0.0     0.0     0.0   \n",
      "19     0.0  ...     0.0     0.0     0.0     0.0     0.0     0.0     0.0   \n",
      "20     0.0  ...     0.0     0.0     0.0     0.0     0.0     0.0     0.0   \n",
      "21     0.0  ...     0.0     0.0     0.0     0.0     0.0     0.0     0.0   \n",
      "22     0.0  ...     0.0     0.0     0.0     0.0     0.0     0.0     0.0   \n",
      "23     0.0  ...     0.0     0.0     0.0     0.0     0.0     0.0     0.0   \n",
      "24     0.0  ...     0.0     0.0     0.0     0.0     0.0     0.0     0.0   \n",
      "25     0.0  ...     0.0     0.0     0.0     0.0     0.0     0.0     0.0   \n",
      "26     0.0  ...     0.0     0.0     0.0     0.0     0.0     0.0     0.0   \n",
      "27     0.0  ...     0.0     0.0     0.0     0.0     0.0     0.0     0.0   \n",
      "28     0.0  ...     0.0     0.0     0.0     0.0     0.0     0.0     0.0   \n",
      "29     0.0  ...     0.0     0.0     0.0     0.0     0.0     0.0     0.0   \n",
      "30     0.0  ...     0.0     0.0     0.0     0.0     0.0     0.0     0.0   \n",
      "31     0.0  ...     0.0     0.0     0.0     0.0     0.0     0.0     0.0   \n",
      "32     0.0  ...     0.0     0.0     0.0     0.0     0.0     0.0     0.0   \n",
      "33     0.0  ...     0.0     0.0     0.0     0.0     0.0     0.0     0.0   \n",
      "34     0.0  ...     0.0     0.0     0.0     0.0     0.0     0.0     0.0   \n",
      "35     0.0  ...     0.0     0.0     0.0     0.0     0.0     0.0     0.0   \n",
      "36     0.0  ...     0.0     0.0     0.0     0.0     0.0     0.0     0.0   \n",
      "37     0.0  ...     0.0     0.0     0.0     0.0     0.0     0.0     0.0   \n",
      "38     0.0  ...     0.0     0.0     0.0     0.0     0.0     0.0     0.0   \n",
      "39     0.0  ...     0.0     0.0     0.0     0.0     0.0     0.0     0.0   \n",
      "40     0.0  ...     0.0     0.0     0.0     0.0     0.0     0.0     0.0   \n",
      "41     0.0  ...     0.0     0.0     0.0     0.0     0.0     0.0     0.0   \n",
      "42     0.0  ...     0.0     0.0     0.0     0.0     0.0     0.0     0.0   \n",
      "43     0.0  ...     0.0     0.0     0.0     0.0     0.0     0.0     0.0   \n",
      "44     0.0  ...     0.0     0.0     0.0     0.0     0.0     0.0     0.0   \n",
      "45     0.0  ...     0.0     0.0     0.0     0.0     0.0     0.0     0.0   \n",
      "46     0.0  ...     0.0     0.0     0.0     0.0     0.0     0.0     0.0   \n",
      "47     0.0  ...     0.0     0.0     0.0     0.0     0.0     0.0     0.0   \n",
      "48     0.0  ...     0.0     0.0     0.0     0.0     0.0     0.0     0.0   \n",
      "49     0.0  ...     0.0     0.0     0.0     0.0     0.0     0.0     0.0   \n",
      "50     0.0  ...     0.0     0.0     0.0     0.0     0.0     0.0     0.0   \n",
      "\n",
      "    5672.0  5673.0  5674.0  \n",
      "0     10.0     2.0     2.0  \n",
      "1      0.0     0.0     0.0  \n",
      "2      0.0     0.0     0.0  \n",
      "3      0.0     0.0     0.0  \n",
      "4      0.0     0.0     0.0  \n",
      "5      0.0     0.0     0.0  \n",
      "6      0.0     0.0     0.0  \n",
      "7      0.0     0.0     0.0  \n",
      "8      0.0     0.0     0.0  \n",
      "9      0.0     0.0     0.0  \n",
      "10     0.0     0.0     0.0  \n",
      "11     0.0     0.0     0.0  \n",
      "12     0.0     0.0     0.0  \n",
      "13     0.0     0.0     0.0  \n",
      "14     0.0     0.0     0.0  \n",
      "15     0.0     0.0     0.0  \n",
      "16     0.0     0.0     0.0  \n",
      "17     0.0     0.0     0.0  \n",
      "18     0.0     0.0     0.0  \n",
      "19     0.0     0.0     0.0  \n",
      "20     0.0     0.0     0.0  \n",
      "21     0.0     0.0     0.0  \n",
      "22     0.0     0.0     0.0  \n",
      "23     0.0     0.0     0.0  \n",
      "24     0.0     0.0     0.0  \n",
      "25     0.0     0.0     0.0  \n",
      "26     0.0     0.0     0.0  \n",
      "27     0.0     0.0     0.0  \n",
      "28     0.0     0.0     0.0  \n",
      "29     0.0     0.0     0.0  \n",
      "30     0.0     0.0     0.0  \n",
      "31     0.0     0.0     0.0  \n",
      "32     0.0     0.0     0.0  \n",
      "33     0.0     0.0     0.0  \n",
      "34     0.0     0.0     0.0  \n",
      "35     0.0     0.0     0.0  \n",
      "36     0.0     0.0     0.0  \n",
      "37     0.0     0.0     0.0  \n",
      "38     0.0     0.0     0.0  \n",
      "39     0.0     0.0     0.0  \n",
      "40     0.0     0.0     0.0  \n",
      "41     0.0     0.0     0.0  \n",
      "42     0.0     0.0     0.0  \n",
      "43     0.0     0.0     0.0  \n",
      "44     0.0     0.0     0.0  \n",
      "45     0.0     0.0     0.0  \n",
      "46     0.0     0.0     0.0  \n",
      "47     0.0     0.0     0.0  \n",
      "48     0.0     0.0     0.0  \n",
      "49     0.0     0.0     0.0  \n",
      "50     0.0     0.0     0.0  \n",
      "\n",
      "[51 rows x 5675 columns]\n"
     ]
    }
   ],
   "source": [
    "print(df)"
   ]
  },
  {
   "cell_type": "markdown",
   "id": "0b76da6d-6e56-42b3-bd85-bd46609d79a5",
   "metadata": {
    "tags": []
   },
   "source": [
    "## explore BH eigenvalues"
   ]
  },
  {
   "cell_type": "code",
   "execution_count": 73,
   "id": "b28e0cab-332f-4a1a-b648-77eefcba6683",
   "metadata": {
    "tags": []
   },
   "outputs": [
    {
     "name": "stderr",
     "output_type": "stream",
     "text": [
      "Constructing HyperBH...: 100%|██████████| 277/277 [08:55<00:00,  1.93s/it]\n"
     ]
    }
   ],
   "source": [
    "edge_order, edge_count = np.unique(aps_hyper_paper.H.sum(axis=0).flatten(), return_counts=True)\n",
    "order_count = dict(zip(edge_order, edge_count))\n",
    "# print(order_count)\n",
    "ds = dict()\n",
    "for o in order_count:\n",
    "    ds[o] = o * order_count[o] / aps_hyper_paper.n\n",
    "bulk = 0\n",
    "for k in aps_hyper_paper.Ks:\n",
    "    bulk += ds[k] * (k - 1)\n",
    "bulk = np.sqrt(bulk)\n",
    "BH = SpectralOperator()\n",
    "BH.operator = aps_hyper_paper.get_operator(\"BH\", r=bulk)"
   ]
  },
  {
   "cell_type": "code",
   "execution_count": 74,
   "id": "94a6a6f2-661d-49a5-9e67-a820991b6956",
   "metadata": {
    "tags": []
   },
   "outputs": [
    {
     "name": "stdout",
     "output_type": "stream",
     "text": [
      "Find first 1000 eigenvalues take 12444.825845479965.\n"
     ]
    }
   ],
   "source": [
    "start = time.time()\n",
    "num_groups = 1000\n",
    "BH.find_k_eigenvectors(num_groups, which='SA', return_eigenvectors=False)\n",
    "print(f\"Find first {num_groups} eigenvalues take {time.time()-start}.\")"
   ]
  },
  {
   "cell_type": "code",
   "execution_count": 78,
   "id": "0ffa0e21-08fd-401c-88d6-0af9bbe7c583",
   "metadata": {
    "tags": []
   },
   "outputs": [
    {
     "data": {
      "text/plain": [
       "168"
      ]
     },
     "execution_count": 78,
     "metadata": {},
     "output_type": "execute_result"
    },
    {
     "data": {
      "image/png": "[encoded data removed]",
      "text/plain": [
       "<Figure size 800x500 with 1 Axes>"
      ]
     },
     "metadata": {
      "image/png": {
       "height": 436,
       "width": 742
      }
     },
     "output_type": "display_data"
    }
   ],
   "source": [
    "x = BH.evals\n",
    "y = [0]*np.size(BH.evals)\n",
    "# print(x, y)\n",
    "plt.scatter(x, y, s=1)\n",
    "thres = -1.43\n",
    "plt.axvline(thres, lw=0.5)\n",
    "np.size(np.where(x<thres)[0])"
   ]
  },
  {
   "cell_type": "code",
   "execution_count": null,
   "id": "52b3cdd8-c0b2-4d13-9546-2fe74a74e318",
   "metadata": {
    "tags": []
   },
   "outputs": [],
   "source": [
    "start = time.time()\n",
    "num_groups = 3000\n",
    "BH.find_k_eigenvectors(num_groups, which='SA', return_eigenvectors=False)\n",
    "print(f\"Find {num_groups} eigenvalues take {time.time()-start} seconds!\")"
   ]
  },
  {
   "cell_type": "code",
   "execution_count": 22,
   "id": "670c770f-052c-4cd2-b256-11268c042973",
   "metadata": {
    "tags": []
   },
   "outputs": [
    {
     "data": {
      "text/plain": [
       "(array([1]), array([1724220]))"
      ]
     },
     "execution_count": 22,
     "metadata": {},
     "output_type": "execute_result"
    }
   ],
   "source": [
    "np.unique(aps_hyper_paper.H.data, return_counts=True)"
   ]
  },
  {
   "cell_type": "markdown",
   "id": "de411c49-a33e-4bf6-99cc-f720da1a2628",
   "metadata": {
    "tags": []
   },
   "source": [
    "# CD based on Bipartite Network on Papers"
   ]
  },
  {
   "cell_type": "code",
   "execution_count": 8,
   "id": "dd6c1991-ed7d-42f7-b91f-877e3f0fddbb",
   "metadata": {
    "tags": []
   },
   "outputs": [],
   "source": [
    "class BipartiteAps():\n",
    "    def __init__(self, hyperPaper=None):\n",
    "        if hyperPaper is not None:\n",
    "            self.H = hyperPaper.H\n",
    "            self.n = hyperPaper.n + hyperPaper.e\n",
    "            self.paper_index = np.arange(hyperPaper.n)\n",
    "            # self.author_index = np.arange(hyperPaper.n, self.n)\n",
    "            self.paper_ids = hyperPaper.nodes\n",
    "            lefttop = csr_array((hyperPaper.n, hyperPaper.n))\n",
    "            rightbottom = csr_array((hyperPaper.e, hyperPaper.e))\n",
    "            print(f\"Construct bipartite adjacent matrix...\")\n",
    "            self.bipartite_A = csr_array(vstack([hstack([lefttop, self.H]), hstack([self.H.transpose(), rightbottom])]))"
   ]
  },
  {
   "cell_type": "code",
   "execution_count": 9,
   "id": "33547179-489e-4571-9aff-9a9cd4c8a558",
   "metadata": {
    "collapsed": true,
    "jupyter": {
     "outputs_hidden": true
    },
    "tags": []
   },
   "outputs": [
    {
     "name": "stderr",
     "output_type": "stream",
     "text": [
      "Load Authorship: 100%|██████████| 2385375/2385375 [00:05<00:00, 468914.49it/s]\n"
     ]
    },
    {
     "name": "stdout",
     "output_type": "stream",
     "text": [
      "Number of Author 868506, Number of Paper 678916 \n",
      " Average #_papers per author 2.7464692241619515 \n",
      " Average #_coauthors per paper 3.5134317058369517 \n",
      "\n"
     ]
    },
    {
     "name": "stderr",
     "output_type": "stream",
     "text": [
      "Load Citation: 100%|██████████| 8767868/8767868 [00:14<00:00, 614444.25it/s]\n"
     ]
    },
    {
     "name": "stdout",
     "output_type": "stream",
     "text": [
      "Average #_cited_papers per citing_paper 12.914510778947616 \n",
      "\n",
      "There are 661105 authors with 1 paper: number of order_1 hyperedge. To be removed!\n",
      "There are 75916 papers with 0 author: number of degree_0 nodes. To be removed!\n",
      "Hypergraph on papers, each author is a hyperedge. n=603000, e=207401\n",
      " Ks & #hyperedge per order=[[    2     3     4     5     6     7     8     9    10    11    12    13\n",
      "     14    15    16    17    18    19    20    21    22    23    24    25\n",
      "     26    27    28    29    30    31    32    33    34    35    36    37\n",
      "     38    39    40    41    42    43    44    45    46    47    48    49\n",
      "     50    51    52    53    54    55    56    57    58    59    60    61\n",
      "     62    63    64    65    66    67    68    69    70    71    72    73\n",
      "     74    75    76    77    78    79    80    81    82    83    84    85\n",
      "     86    87    88    89    90    91    92    93    94    95    96    97\n",
      "     98    99   100   101   102   103   104   105   106   107   108   109\n",
      "    110   111   112   113   114   115   116   117   118   119   120   121\n",
      "    122   123   124   125   126   127   128   129   130   131   132   133\n",
      "    134   135   136   137   138   139   140   141   142   143   144   145\n",
      "    146   147   148   149   150   151   152   153   154   155   156   157\n",
      "    158   159   160   161   162   163   164   165   166   167   168   169\n",
      "    170   171   172   173   174   175   176   177   178   179   180   182\n",
      "    183   186   187   188   189   190   191   193   197   198   199   201\n",
      "    202   203   204   205   207   208   209   210   211   213   214   215\n",
      "    216   217   218   219   220   221   222   224   226   228   230   233\n",
      "    235   237   242   244   246   249   250   251   252   254   255   257\n",
      "    258   259   260   263   264   265   267   268   271   273   274   279\n",
      "    280   281   283   287   292   297   302   306   309   312   314   316\n",
      "    323   329   344   354   358   360   366   370   373   377   378   397\n",
      "    399   420   422   426   431   444   474   487   491   497   524   710\n",
      "    747]\n",
      " [69453 34968 20741 13829  9613  7318  5629  4544  3798  3211  2765  2441\n",
      "   2086  1922  1646  1545  1329  1278  1148  1055   889   869   798   749\n",
      "    681   633   598   562   541   486   487   423   408   364   382   368\n",
      "    337   325   307   267   272   246   256   230   220   200   191   191\n",
      "    187   165   178   151   153   142   131   114   122   118   104   100\n",
      "     97    92    95   104    90    82    84    79    68    65    62    89\n",
      "     62    56    60    70    57    55    54    59    50    50    50    54\n",
      "     38    31    37    33    38    32    27    45    41    25    26    33\n",
      "     29    36    28    21    22    18    15    26    20    18    23    21\n",
      "     22    14    25    18    12    15    13    24    15    13    15    12\n",
      "     12    13     8     9    13    21    11    14    13     9    15     8\n",
      "      7     9     7     9     4    10     9    13     6     7    10     7\n",
      "      5    12     6    10     8     9     4     5     9     7     5     5\n",
      "      6     5     6     4     5     2     9     5     1     3     7     6\n",
      "      3     5     7     4     2     2     6     3     4     1     4     2\n",
      "      3     3     3     6     2     1     1     2     1     2     1     1\n",
      "      2     3     1     2     2     2     2     1     5     4     2     2\n",
      "      1     1     1     1     3     1     1     1     1     1     1     1\n",
      "      2     1     1     2     2     2     2     1     2     1     1     2\n",
      "      1     2     1     2     1     1     1     2     1     2     1     1\n",
      "      1     1     1     1     1     1     1     1     1     1     1     1\n",
      "      1     1     2     1     1     1     1     1     1     1     1     1\n",
      "      1     1     1     1     1     1     1     1     1     1     1     1\n",
      "      1]]\n",
      "Ds & #nodes per degree=[[     1      2      3      4      5      6      7      8      9]\n",
      " [122319 183402 132376  75392  40687  23483  14044   7913   3384]]\n",
      "There are 5675 connected components now, we select the maximum one\n",
      "There are 8792 authors with 0 paper after select max component: To be removed!\n",
      "Hypergraph on papers, each author is a hyperedge. n=583905, e=198609\n",
      " Ks & #hyperedge per order=[[    2     3     4     5     6     7     8     9    10    11    12    13\n",
      "     14    15    16    17    18    19    20    21    22    23    24    25\n",
      "     26    27    28    29    30    31    32    33    34    35    36    37\n",
      "     38    39    40    41    42    43    44    45    46    47    48    49\n",
      "     50    51    52    53    54    55    56    57    58    59    60    61\n",
      "     62    63    64    65    66    67    68    69    70    71    72    73\n",
      "     74    75    76    77    78    79    80    81    82    83    84    85\n",
      "     86    87    88    89    90    91    92    93    94    95    96    97\n",
      "     98    99   100   101   102   103   104   105   106   107   108   109\n",
      "    110   111   112   113   114   115   116   117   118   119   120   121\n",
      "    122   123   124   125   126   127   128   129   130   131   132   133\n",
      "    134   135   136   137   138   139   140   141   142   143   144   145\n",
      "    146   147   148   149   150   151   152   153   154   155   156   157\n",
      "    158   159   160   161   162   163   164   165   166   167   168   169\n",
      "    170   171   172   173   174   175   176   177   178   179   180   182\n",
      "    183   186   187   188   189   190   191   193   197   198   199   201\n",
      "    202   203   204   205   207   208   209   210   211   213   214   215\n",
      "    216   217   218   219   220   221   222   224   226   228   230   233\n",
      "    235   237   242   244   246   249   250   251   252   254   255   257\n",
      "    258   259   260   263   264   265   267   268   271   273   274   279\n",
      "    280   281   283   287   292   297   302   306   309   312   314   316\n",
      "    323   329   344   354   358   360   366   370   373   377   378   397\n",
      "    399   420   422   426   431   444   474   487   491   497   524   710\n",
      "    747]\n",
      " [64089 33230 20043 13464  9413  7184  5544  4490  3764  3186  2750  2421\n",
      "   2078  1913  1642  1540  1323  1275  1143  1053   887   867   794   749\n",
      "    679   632   598   562   540   486   486   423   408   363   381   366\n",
      "    337   325   307   267   272   246   256   230   220   200   191   191\n",
      "    187   164   178   151   153   142   131   114   122   118   104   100\n",
      "     97    92    95   104    90    82    84    79    68    65    62    89\n",
      "     62    56    60    70    57    55    54    59    50    50    50    54\n",
      "     38    31    37    33    38    32    27    45    41    25    26    33\n",
      "     29    36    28    21    22    18    15    26    20    18    23    21\n",
      "     22    14    25    18    12    15    13    24    15    13    15    12\n",
      "     12    13     8     9    13    21    11    14    13     9    15     8\n",
      "      7     9     7     9     4    10     9    13     6     7    10     7\n",
      "      5    12     6    10     8     9     4     5     9     7     5     5\n",
      "      6     5     6     4     5     2     9     5     1     3     7     6\n",
      "      3     5     7     4     2     2     6     3     4     1     4     2\n",
      "      3     3     3     6     2     1     1     2     1     2     1     1\n",
      "      2     3     1     2     2     2     2     1     5     4     2     2\n",
      "      1     1     1     1     3     1     1     1     1     1     1     1\n",
      "      2     1     1     2     2     2     2     1     2     1     1     2\n",
      "      1     2     1     2     1     1     1     2     1     2     1     1\n",
      "      1     1     1     1     1     1     1     1     1     1     1     1\n",
      "      1     1     2     1     1     1     1     1     1     1     1     1\n",
      "      1     1     1     1     1     1     1     1     1     1     1     1\n",
      "      1]]\n",
      "Ds & #nodes per degree=[[     1      2      3      4      5      6      7      8      9]\n",
      " [108481 179398 131476  75160  40605  23459  14038   7906   3382]]\n"
     ]
    }
   ],
   "source": [
    "aps_hyper_paper = HyperPaper()\n",
    "aps_hyper_paper.max_component(connected_components=None)"
   ]
  },
  {
   "cell_type": "code",
   "execution_count": 10,
   "id": "14d5ff30-c70d-43ab-acd3-4b200878da6a",
   "metadata": {
    "tags": []
   },
   "outputs": [
    {
     "name": "stdout",
     "output_type": "stream",
     "text": [
      "Construct bipartite adjacent matrix...\n"
     ]
    }
   ],
   "source": [
    "aps_bipartite_paper = BipartiteAps(aps_hyper_paper)"
   ]
  },
  {
   "cell_type": "code",
   "execution_count": 12,
   "id": "79946ccd-764d-4560-86a5-461c5521e4da",
   "metadata": {
    "tags": []
   },
   "outputs": [
    {
     "name": "stdout",
     "output_type": "stream",
     "text": [
      "Get BH operator, done!\n",
      "EVECs construct: 10171.817452669144\n",
      "Time cost 12795.408214569092\n"
     ]
    }
   ],
   "source": [
    "start = time.time()\n",
    "given_num_groups = 168\n",
    "save_path = f\"./result/partition_paper_bipartite_maxcomponent_given{given_num_groups}Groups.pkl\"\n",
    "partition_vec, _ = CommunityDetect(aps_bipartite_paper.bipartite_A).BetheHessian(num_groups=given_num_groups,\n",
    "                                                                    only_assortative=True)\n",
    "with open(save_path, \"wb\") as fw:\n",
    "        pickle.dump(partition_vec, fw)\n",
    "print(f\"Time cost {time.time()-start}\")"
   ]
  },
  {
   "cell_type": "code",
   "execution_count": 13,
   "id": "a7fa5452-f1fd-4339-b372-efa21305a27b",
   "metadata": {
    "tags": []
   },
   "outputs": [
    {
     "name": "stdout",
     "output_type": "stream",
     "text": [
      "[7 7 7 ... 7 7 7]\n"
     ]
    },
    {
     "data": {
      "text/plain": [
       "(array([  0,   1,   2,   3,   4,   5,   6,   7,   8,   9,  10,  11,  12,\n",
       "         13,  14,  15,  16,  17,  18,  19,  20,  21,  22,  23,  24,  25,\n",
       "         26,  27,  28,  29,  30,  31,  32,  33,  34,  35,  36,  37,  38,\n",
       "         39,  40,  41,  42,  43,  44,  45,  46,  47,  48,  49,  50,  51,\n",
       "         52,  53,  54,  55,  56,  57,  58,  59,  60,  61,  62,  63,  64,\n",
       "         65,  66,  67,  68,  69,  70,  71,  72,  73,  74,  75,  76,  77,\n",
       "         78,  79,  80,  81,  82,  83,  84,  85,  86,  87,  88,  89,  90,\n",
       "         91,  92,  93,  94,  95,  96,  97,  98,  99, 100, 101, 102, 103,\n",
       "        104, 105, 106, 107, 108, 109, 110, 111, 112, 113, 114, 115, 116,\n",
       "        117, 118, 119, 120, 121, 122, 123, 124, 125, 126, 127, 128, 129,\n",
       "        130, 131, 132, 133, 134, 135, 136, 137, 138, 139, 140, 141, 142,\n",
       "        143, 144, 145, 146, 147, 148, 149, 150, 151, 152, 153, 154, 155,\n",
       "        156, 157, 158, 159, 160, 161, 162, 163, 164, 165, 166, 167],\n",
       "       dtype=int32),\n",
       " array([ 16005,     47,     60,     25,    157,     85,     14, 516816,\n",
       "            37,     79,     71,     28,     96,     20,     94,     21,\n",
       "            34,     82,     28,     47,     10,     20,     34,     43,\n",
       "            36,     14,     37,     39,     27,     51,     32,     75,\n",
       "            27,     14,     24,     39,     43,    118,    632,      8,\n",
       "           118,     60,     85,     56,     68,     34,    117,     35,\n",
       "            32,    129,    244,     13,    489,     92,     57,     50,\n",
       "           167,     55,    119,     34,    457,     73,    106,     74,\n",
       "            32,     45,     83,     97,     11,     22,   1072,     65,\n",
       "           135,     25,     95,     57,     29,     35,    267,     25,\n",
       "            62,     30,     70,    399,     26,     23,     70,    106,\n",
       "            31,     31,     83,     67,     77,     16,     33,    100,\n",
       "            91,    119,     56,    173,     25,     53,    155,     38,\n",
       "           153,    420,     51,    263,    282,    256,    158,    170,\n",
       "            98,    212,    278,    781,    239,     39,    198,     44,\n",
       "            92,    367,    211,    691,     85,     98,    891,    220,\n",
       "           146,    739,     25,     86,    103,    534,    147,     76,\n",
       "           125,   6149,    767,    724,    311,    286,    132,    482,\n",
       "            33,   3633,    273,    544,    578,    402,   1900,     51,\n",
       "           308,    131,     90,     57,    325,   9248,    494,    244,\n",
       "           268,    252,    439,   4061,     97,    108,    939,    339]))"
      ]
     },
     "execution_count": 13,
     "metadata": {},
     "output_type": "execute_result"
    }
   ],
   "source": [
    "print(partition_vec[aps_bipartite_paper.paper_index])\n",
    "np.unique(partition_vec[aps_bipartite_paper.paper_index], return_counts=True)"
   ]
  },
  {
   "cell_type": "markdown",
   "id": "739993dc-9bd6-46fb-8986-bfcc95634971",
   "metadata": {
    "jp-MarkdownHeadingCollapsed": true,
    "tags": []
   },
   "source": [
    "# CD based on Hypergraph on Authors"
   ]
  },
  {
   "cell_type": "code",
   "execution_count": 5,
   "id": "ba84c432-1e54-45d8-854f-242f524d98b5",
   "metadata": {
    "tags": []
   },
   "outputs": [],
   "source": [
    "class HyperAuthor(APS):\n",
    "    def __init__(self):\n",
    "        super().__init__()\n",
    "        self.n = self.author_n\n",
    "        self.e = self.paper_n\n",
    "        self.H = self.incidence_H\n",
    "        edge_order, order_count = np.unique(self.H.sum(axis=0).flatten(), return_counts=True)\n",
    "        print(f\"There are {order_count[0]} papers with 0 author, {order_count[1]} papers with 1 author: number of hyperedge to be removed!\")\n",
    "        self.e = self.e - order_count[0] - order_count[1]\n",
    "        nonorder1or0_column = np.logical_and(self.H.sum(axis=0).flatten()!=1, self.H.sum(axis=0).flatten()!=0).nonzero()\n",
    "        self.H = (self.H.tocsc()[:, nonorder1or0_column[0]]).tocsr()\n",
    "        # print(np.unique(self.H.data, return_counts=True))\n",
    "        node_degree, degree_count = np.unique(self.H.sum(axis=1).flatten(),  return_counts=True)\n",
    "        print(f\"There are {degree_count[0]} authors with 0 paper: number of degree_0 nodes. To be removed!\")\n",
    "        self.n = self.n - degree_count[0]\n",
    "        self.nondegree0_row = (self.H.sum(axis=1).flatten()!=0).nonzero()\n",
    "        self.H = self.H[self.nondegree0_row[0], :]\n",
    "        \n",
    "        edge_order, order_count = np.unique(self.H.sum(axis=0).flatten(), return_counts=True)\n",
    "        node_degree, degree_count = np.unique(self.H.sum(axis=1).flatten(),  return_counts=True)\n",
    "        self.Ks = edge_order\n",
    "        \n",
    "        print(f\"Hypergraph on authors, each paper is a hyperedge. n={self.n}, e={self.e}, Ks & #hyperedge per order={np.array([edge_order, order_count])}\")\n",
    "        print(f\"Ds & #nodes per degree={np.array([node_degree, degree_count])}\")\n",
    "        \n",
    "    def get_operator(self, operator='BH', r=0, consider_ks=None, proj_matrix=None):\n",
    "        if operator == \"BH\":\n",
    "            edge_order = self.H.sum(axis=0).flatten()\n",
    "            D = None\n",
    "            A = None\n",
    "            self.H = self.H.tocsc()\n",
    "            if consider_ks is None:\n",
    "                Ks = self.Ks\n",
    "            else:\n",
    "                Ks = consider_ks\n",
    "            for k in tqdm(Ks, desc='Constructing HyperBH...'):\n",
    "                edge_index = np.where(edge_order == k)[0]\n",
    "                Hk = self.H[:, edge_index]\n",
    "                Dk = diags(Hk.sum(axis=1).flatten().astype(float))\n",
    "                Ak = Hk.dot(Hk.T) - diags(Hk.dot(Hk.T).diagonal())\n",
    "                if D is None:\n",
    "                    D = (k-1)/((1-r)*(r+k-1))*Dk\n",
    "                else:\n",
    "                    D += (k-1)/((1-r)*(r+k-1))*Dk\n",
    "                if A is None:\n",
    "                    A = r/((1-r)*(r+k-1))*Ak\n",
    "                else:\n",
    "                    A += r/((1-r)*(r+k-1))*Ak\n",
    "            B = eye(D.shape[0]) - D + A\n",
    "            return B\n",
    "        elif operator == 'BHproj':\n",
    "            d = csr_array(proj_matrix ** 2 / (csr_array(r ** 2 * np.ones((n1, n1))) - proj_matrix ** 2)).sum(axis=1).flatten().astype(float)\n",
    "            d = diags(d, 0)\n",
    "            d = d + csr_array(np.identity(n1))\n",
    "            BH = d - csr_array((r * proj_matrix) / (csr_array(r ** 2 * np.ones((n1, n1))) - proj_matrix ** 2))\n",
    "            return BH"
   ]
  },
  {
   "cell_type": "code",
   "execution_count": 6,
   "id": "e355d15e-39d4-4be3-8c31-ad8aa5cb1fb7",
   "metadata": {
    "tags": []
   },
   "outputs": [
    {
     "name": "stderr",
     "output_type": "stream",
     "text": [
      "Load Authorship: 100%|██████████| 2385375/2385375 [00:05<00:00, 450653.63it/s]\n"
     ]
    },
    {
     "name": "stdout",
     "output_type": "stream",
     "text": [
      "Number of Author 868506, Number of Paper 678916 \n",
      " Average #_papers per author 2.7464692241619515 \n",
      " Average #_coauthors per paper 3.5134317058369517 \n",
      "\n"
     ]
    },
    {
     "name": "stderr",
     "output_type": "stream",
     "text": [
      "Load Citation: 100%|██████████| 8767868/8767868 [00:33<00:00, 264782.87it/s]\n"
     ]
    },
    {
     "name": "stdout",
     "output_type": "stream",
     "text": [
      "Average #_cited_papers per citing_paper 12.914510778947616 \n",
      "\n",
      "There are 10888 papers with 0 author, 98833 papers with 1 author: number of hyperedge to be removed!\n",
      "There are 17277 authors with 0 paper: number of degree_0 nodes. To be removed!\n",
      "Hypergraph on authors, each paper is a hyperedge. n=851229, e=569195, Ks & #hyperedge per order=[[     2      3      4      5      6      7      8      9     10     11\n",
      "      12     13     14     15     16     17     18     19     20     21\n",
      "      22     23     24     25]\n",
      " [185018 146207  88452  49775  30195  19575  13430   9214   6632   4773\n",
      "    3463   2596   1944   1579   1260   1006    857    679    622    486\n",
      "     425    441    315    251]]\n",
      "Ds & #nodes per degree=[[     1      2      3      4      5      6      7      8      9     10\n",
      "      11     12     13     14     15     16     17     18     19     20\n",
      "      21     22     23     24     25     26     27     28     29     30\n",
      "      31     32     33     34     35     36     37     38     39     40\n",
      "      41     42     43     44     45     46     47     48     49     50\n",
      "      51     52     53     54     55     56     57     58     59     60\n",
      "      61     62     63     64     65     66     67     68     69     70\n",
      "      71     72     73     74     75     76     77     78     79     80\n",
      "      81     82     83     84     85     86     87     88     89     90\n",
      "      91     92     93     94     95     96     97     98     99    100\n",
      "     101    102    103    104    105    106    107    108    109    110\n",
      "     111    112    113    114    115    116    117    118    119    120\n",
      "     121    122    123    124    125    126    127    128    129    130\n",
      "     131    132    133    134    135    136    137    138    139    140\n",
      "     141    142    143    144    145    146    147    148    149    150\n",
      "     151    152    153    154    155    156    157    158    159    160\n",
      "     161    162    163    164    165    166    167    168    169    170\n",
      "     171    172    173    174    175    176    177    178    179    180\n",
      "     181    182    183    184    185    186    187    188    189    190\n",
      "     191    192    195    198    199    201    202    204    205    206\n",
      "     207    208    209    210    211    213    214    215    219    220\n",
      "     221    223    224    225    226    227    228    230    233    234\n",
      "     238    240    242    244    246    247    248    249    250    255\n",
      "     257    258    259    261    262    266    267    269    270    279\n",
      "     283    291    297    298    305    306    309    312    322    323\n",
      "     336    343    354    357    366    373    377    378    399    408\n",
      "     419    422    426    430    467    469    487    490    524    707\n",
      "     737]\n",
      " [650008  67859  34015  20253  13344   9354   7120   5472   4407   3665\n",
      "    3164   2690   2309   2032   1844   1608   1472   1326   1209   1084\n",
      "    1013    860    791    760    711    660    615    573    571    488\n",
      "     456    438    410    410    353    364    351    311    302    301\n",
      "     261    241    223    223    211    206    195    177    177    162\n",
      "     137    158    132    144    135    127     96    110    112     96\n",
      "     104     94     86     74     99     84     71     74     72     57\n",
      "      61     66     65     69     61     51     46     62     52     45\n",
      "      53     45     49     45     39     29     29     33     36     45\n",
      "      24     31     30     37     25     33     26     17     28     32\n",
      "      22     16     16     10     23     26     13     21     13     22\n",
      "      13     20     23     15     16     17     15     13     13     10\n",
      "      11      5     14      9     10     15     16      9     12      7\n",
      "       3     13     11     11      6      6     11      7     10      6\n",
      "       8      8      8     12      6      5      6      8     10      6\n",
      "       5      4      9      4      4      8      4      7      3      3\n",
      "       2      6      4      7      3      3      5      2      4      3\n",
      "       2      3      4      2      2      3      2      3      4      3\n",
      "       1      1      1      3      1      1      2      3      1      2\n",
      "       1      1      1      2      1      4      2      1      2      2\n",
      "       2      3      1      1      2      2      4      1      1      1\n",
      "       1      1      1      1      1      1      1      1      3      1\n",
      "       1      1      1      1      5      2      1      2      2      1\n",
      "       2      3      1      2      1      1      1      2      1      1\n",
      "       2      1      1      1      1      2      1      1      1      1\n",
      "       1      2      2      1      1      1      1      1      1      1\n",
      "       1      1      1      1      1      1      1      1      1      1\n",
      "       1]]\n"
     ]
    }
   ],
   "source": [
    "aps_hyper_author = HyperAuthor()"
   ]
  },
  {
   "cell_type": "markdown",
   "id": "d23680e1-cd12-45be-b0ae-6bfc7e0abffa",
   "metadata": {},
   "source": [
    "## cd with hyper bh"
   ]
  },
  {
   "cell_type": "code",
   "execution_count": 51,
   "id": "22dc974f-6331-4d13-b101-7dd8dfeffdeb",
   "metadata": {
    "tags": []
   },
   "outputs": [
    {
     "name": "stderr",
     "output_type": "stream",
     "text": [
      "Constructing HyperBH...: 100%|██████████| 24/24 [00:12<00:00,  1.85it/s]\n"
     ]
    },
    {
     "name": "stdout",
     "output_type": "stream",
     "text": [
      "EVECs construct: 92.74389004707336\n"
     ]
    }
   ],
   "source": [
    "given_num_groups = 10\n",
    "consider_ks = None\n",
    "author_partition_vec, _ = HyperCommunityDetect().BetheHessian(aps_hyper_author, \n",
    "                                                                num_groups=given_num_groups,\n",
    "                                                                consider_ks=consider_ks,\n",
    "                                                                only_assortative=True)\n",
    "with open(f\"./result/partition_author_hyperBH_given{given_num_groups}groups_considerOrder{consider_ks}.pkl\", \"wb\") as fw:\n",
    "        pickle.dump(author_partition_vec, fw)"
   ]
  },
  {
   "cell_type": "code",
   "execution_count": 53,
   "id": "f0c09df6-ffcd-4866-ae35-729bf1797977",
   "metadata": {
    "tags": []
   },
   "outputs": [
    {
     "data": {
      "text/plain": [
       "(array([0, 1, 2, 3, 4, 5, 6, 7, 8, 9], dtype=int32),\n",
       " array([851093,     15,      3,     12,     17,     16,      4,     10,\n",
       "            13,     46]))"
      ]
     },
     "execution_count": 53,
     "metadata": {},
     "output_type": "execute_result"
    }
   ],
   "source": [
    "np.unique(author_partition_vec, return_counts=True)"
   ]
  },
  {
   "cell_type": "markdown",
   "id": "fb59d9e5-3df0-47ef-89c6-6c07f6d918ed",
   "metadata": {},
   "source": [
    "## cd with proj bh"
   ]
  },
  {
   "cell_type": "code",
   "execution_count": null,
   "id": "a37bcaa0-9901-4e0a-bfa4-cdbdd72ebafc",
   "metadata": {
    "tags": []
   },
   "outputs": [
    {
     "name": "stdout",
     "output_type": "stream",
     "text": [
      "Construct projected weighted matrix, do weighted BH on it...\n"
     ]
    }
   ],
   "source": [
    "given_num_groups = 10\n",
    "author_partition_vec, _ = HyperCommunityDetect().ProjBH(aps_hyper_author, num_groups=given_num_groups, only_assortative=True)\n",
    "with open(f\"./result/partition_author_projBH_given{given_num_groups}groups.pkl\", \"wb\") as fw:\n",
    "        pickle.dump(author_partition_vec, fw)"
   ]
  },
  {
   "cell_type": "code",
   "execution_count": null,
   "id": "033731a9-f7bf-41f4-8f9e-b6ec55affcb8",
   "metadata": {},
   "outputs": [],
   "source": []
  }
 ],
 "metadata": {
  "kernelspec": {
   "display_name": "Python [conda env:base] *",
   "language": "python",
   "name": "conda-base-py"
  },
  "language_info": {
   "codemirror_mode": {
    "name": "ipython",
    "version": 3
   },
   "file_extension": ".py",
   "mimetype": "text/x-python",
   "name": "python",
   "nbconvert_exporter": "python",
   "pygments_lexer": "ipython3",
   "version": "3.10.11"
  }
 },
 "nbformat": 4,
 "nbformat_minor": 5
}
