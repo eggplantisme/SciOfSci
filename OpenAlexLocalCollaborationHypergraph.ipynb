{
 "cells": [
  {
   "cell_type": "code",
   "execution_count": 60,
   "id": "d3b9fb18-f123-4bdf-ac40-f1e444f4238b",
   "metadata": {},
   "outputs": [
    {
     "name": "stdout",
     "output_type": "stream",
     "text": [
      "The autoreload extension is already loaded. To reload it, use:\n",
      "  %reload_ext autoreload\n"
     ]
    }
   ],
   "source": [
    "import numpy as np\n",
    "from tqdm import tqdm\n",
    "from scipy.sparse import csr_array\n",
    "import matplotlib.pyplot as plt\n",
    "import pickle\n",
    "import warnings\n",
    "import pandas\n",
    "import time\n",
    "import pickle\n",
    "import networkx as nx\n",
    "# import hypernetx as hnx\n",
    "from itertools import chain\n",
    "import pyalex\n",
    "import json\n",
    "import os\n",
    "from pyalex import Works, Authors, Sources, Institutions, Topics, Publishers, Funders\n",
    "from OpenAlex import *\n",
    "from OpenAlexHypergraph import *\n",
    "\n",
    "\n",
    "%load_ext autoreload\n",
    "%autoreload 2"
   ]
  },
  {
   "cell_type": "code",
   "execution_count": 2,
   "id": "aa45a419-48a8-4583-b9ae-d11159ce2fe7",
   "metadata": {},
   "outputs": [],
   "source": [
    "pyalex.config.email = \"l.jiaze@maastrichtuniversity.nl\"\n",
    "pyalex.config.max_retries = 0\n",
    "pyalex.config.retry_backoff_factor = 0.1\n",
    "pyalex.config.retry_http_codes = [429, 500, 503]"
   ]
  },
  {
   "cell_type": "code",
   "execution_count": 34,
   "id": "bb0cb561-1045-4599-b87c-adae63a55d25",
   "metadata": {
    "collapsed": true,
    "jupyter": {
     "outputs_hidden": true
    }
   },
   "outputs": [
    {
     "data": {
      "text/plain": [
       "{'id': 'https://openalex.org/W2886742146',\n",
       " 'doi': 'https://doi.org/10.1109/globalsip.2018.8646701',\n",
       " 'title': 'FLOW SMOOTHING AND DENOISING: GRAPH SIGNAL PROCESSING IN THE EDGE-SPACE',\n",
       " 'display_name': 'FLOW SMOOTHING AND DENOISING: GRAPH SIGNAL PROCESSING IN THE EDGE-SPACE',\n",
       " 'publication_year': 2018,\n",
       " 'publication_date': '2018-11-01',\n",
       " 'ids': {'openalex': 'https://openalex.org/W2886742146',\n",
       "  'doi': 'https://doi.org/10.1109/globalsip.2018.8646701',\n",
       "  'mag': '2886742146'},\n",
       " 'language': 'en',\n",
       " 'primary_location': {'is_oa': False,\n",
       "  'landing_page_url': 'https://doi.org/10.1109/globalsip.2018.8646701',\n",
       "  'pdf_url': None,\n",
       "  'source': None,\n",
       "  'license': None,\n",
       "  'license_id': None,\n",
       "  'version': None,\n",
       "  'is_accepted': False,\n",
       "  'is_published': False},\n",
       " 'type': 'preprint',\n",
       " 'type_crossref': 'proceedings-article',\n",
       " 'indexed_in': ['arxiv', 'crossref', 'datacite'],\n",
       " 'open_access': {'is_oa': True,\n",
       "  'oa_status': 'green',\n",
       "  'oa_url': 'https://arxiv.org/pdf/1808.02111',\n",
       "  'any_repository_has_fulltext': True},\n",
       " 'authorships': [{'author_position': 'first',\n",
       "   'author': {'id': 'https://openalex.org/A5008584000',\n",
       "    'display_name': 'Michael T. Schaub',\n",
       "    'orcid': 'https://orcid.org/0000-0003-2426-6404'},\n",
       "   'institutions': [{'id': 'https://openalex.org/I40120149',\n",
       "     'display_name': 'University of Oxford',\n",
       "     'ror': 'https://ror.org/052gg0110',\n",
       "     'country_code': 'GB',\n",
       "     'type': 'funder',\n",
       "     'lineage': ['https://openalex.org/I40120149']}],\n",
       "   'countries': ['GB'],\n",
       "   'is_corresponding': False,\n",
       "   'raw_author_name': 'Michael T. Schaub',\n",
       "   'raw_affiliation_strings': ['Department of Engineering Science, University of Oxford, Oxford, UK'],\n",
       "   'affiliations': [{'raw_affiliation_string': 'Department of Engineering Science, University of Oxford, Oxford, UK',\n",
       "     'institution_ids': ['https://openalex.org/I40120149']}]},\n",
       "  {'author_position': 'last',\n",
       "   'author': {'id': 'https://openalex.org/A5012007074',\n",
       "    'display_name': 'Santiago Segarra',\n",
       "    'orcid': 'https://orcid.org/0000-0002-8408-9633'},\n",
       "   'institutions': [{'id': 'https://openalex.org/I63966007',\n",
       "     'display_name': 'Massachusetts Institute of Technology',\n",
       "     'ror': 'https://ror.org/042nb2s44',\n",
       "     'country_code': 'US',\n",
       "     'type': 'funder',\n",
       "     'lineage': ['https://openalex.org/I63966007']}],\n",
       "   'countries': ['US'],\n",
       "   'is_corresponding': False,\n",
       "   'raw_author_name': 'Santiago Segarra',\n",
       "   'raw_affiliation_strings': ['Institute for Data, Systems, and Society, Massachusetts Institute of Technology, Cambridge, MA, USA'],\n",
       "   'affiliations': [{'raw_affiliation_string': 'Institute for Data, Systems, and Society, Massachusetts Institute of Technology, Cambridge, MA, USA',\n",
       "     'institution_ids': ['https://openalex.org/I63966007']}]}],\n",
       " 'institution_assertions': [],\n",
       " 'countries_distinct_count': 2,\n",
       " 'institutions_distinct_count': 2,\n",
       " 'corresponding_author_ids': [],\n",
       " 'corresponding_institution_ids': [],\n",
       " 'apc_list': None,\n",
       " 'apc_paid': None,\n",
       " 'fwci': None,\n",
       " 'has_fulltext': True,\n",
       " 'fulltext_origin': 'pdf',\n",
       " 'cited_by_count': 55,\n",
       " 'citation_normalized_percentile': {'value': 0.986134,\n",
       "  'is_in_top_1_percent': False,\n",
       "  'is_in_top_10_percent': True},\n",
       " 'cited_by_percentile_year': {'min': 96, 'max': 97},\n",
       " 'biblio': {'volume': None,\n",
       "  'issue': None,\n",
       "  'first_page': '735',\n",
       "  'last_page': '739'},\n",
       " 'is_retracted': False,\n",
       " 'is_paratext': False,\n",
       " 'primary_topic': {'id': 'https://openalex.org/T10064',\n",
       "  'display_name': 'Complex Network Analysis Techniques',\n",
       "  'score': 0.9994,\n",
       "  'subfield': {'id': 'https://openalex.org/subfields/3109',\n",
       "   'display_name': 'Statistical and Nonlinear Physics'},\n",
       "  'field': {'id': 'https://openalex.org/fields/31',\n",
       "   'display_name': 'Physics and Astronomy'},\n",
       "  'domain': {'id': 'https://openalex.org/domains/3',\n",
       "   'display_name': 'Physical Sciences'}},\n",
       " 'topics': [{'id': 'https://openalex.org/T10064',\n",
       "   'display_name': 'Complex Network Analysis Techniques',\n",
       "   'score': 0.9994,\n",
       "   'subfield': {'id': 'https://openalex.org/subfields/3109',\n",
       "    'display_name': 'Statistical and Nonlinear Physics'},\n",
       "   'field': {'id': 'https://openalex.org/fields/31',\n",
       "    'display_name': 'Physics and Astronomy'},\n",
       "   'domain': {'id': 'https://openalex.org/domains/3',\n",
       "    'display_name': 'Physical Sciences'}},\n",
       "  {'id': 'https://openalex.org/T11273',\n",
       "   'display_name': 'Advanced Graph Neural Networks',\n",
       "   'score': 0.9992,\n",
       "   'subfield': {'id': 'https://openalex.org/subfields/1702',\n",
       "    'display_name': 'Artificial Intelligence'},\n",
       "   'field': {'id': 'https://openalex.org/fields/17',\n",
       "    'display_name': 'Computer Science'},\n",
       "   'domain': {'id': 'https://openalex.org/domains/3',\n",
       "    'display_name': 'Physical Sciences'}},\n",
       "  {'id': 'https://openalex.org/T12536',\n",
       "   'display_name': 'Topological and Geometric Data Analysis',\n",
       "   'score': 0.9991,\n",
       "   'subfield': {'id': 'https://openalex.org/subfields/1703',\n",
       "    'display_name': 'Computational Theory and Mathematics'},\n",
       "   'field': {'id': 'https://openalex.org/fields/17',\n",
       "    'display_name': 'Computer Science'},\n",
       "   'domain': {'id': 'https://openalex.org/domains/3',\n",
       "    'display_name': 'Physical Sciences'}}],\n",
       " 'keywords': [{'id': 'https://openalex.org/keywords/smoothing',\n",
       "   'display_name': 'Smoothing',\n",
       "   'score': 0.6210933},\n",
       "  {'id': 'https://openalex.org/keywords/signal-flow-graph',\n",
       "   'display_name': 'Signal-flow graph',\n",
       "   'score': 0.5568228}],\n",
       " 'concepts': [{'id': 'https://openalex.org/C3770464',\n",
       "   'wikidata': 'https://www.wikidata.org/wiki/Q775963',\n",
       "   'display_name': 'Smoothing',\n",
       "   'level': 2,\n",
       "   'score': 0.6210933},\n",
       "  {'id': 'https://openalex.org/C166501922',\n",
       "   'wikidata': 'https://www.wikidata.org/wiki/Q1786523',\n",
       "   'display_name': 'Signal-flow graph',\n",
       "   'level': 2,\n",
       "   'score': 0.5568228},\n",
       "  {'id': 'https://openalex.org/C115178988',\n",
       "   'wikidata': 'https://www.wikidata.org/wiki/Q772067',\n",
       "   'display_name': 'Laplacian matrix',\n",
       "   'level': 3,\n",
       "   'score': 0.5516391},\n",
       "  {'id': 'https://openalex.org/C104267543',\n",
       "   'wikidata': 'https://www.wikidata.org/wiki/Q208163',\n",
       "   'display_name': 'Signal processing',\n",
       "   'level': 3,\n",
       "   'score': 0.52188116},\n",
       "  {'id': 'https://openalex.org/C41008148',\n",
       "   'wikidata': 'https://www.wikidata.org/wiki/Q21198',\n",
       "   'display_name': 'Computer science',\n",
       "   'level': 0,\n",
       "   'score': 0.50785905},\n",
       "  {'id': 'https://openalex.org/C163294075',\n",
       "   'wikidata': 'https://www.wikidata.org/wiki/Q581861',\n",
       "   'display_name': 'Noise reduction',\n",
       "   'level': 2,\n",
       "   'score': 0.5050753},\n",
       "  {'id': 'https://openalex.org/C132525143',\n",
       "   'wikidata': 'https://www.wikidata.org/wiki/Q141488',\n",
       "   'display_name': 'Graph',\n",
       "   'level': 2,\n",
       "   'score': 0.50262547},\n",
       "  {'id': 'https://openalex.org/C165700671',\n",
       "   'wikidata': 'https://www.wikidata.org/wiki/Q203484',\n",
       "   'display_name': 'Laplace operator',\n",
       "   'level': 2,\n",
       "   'score': 0.47168046},\n",
       "  {'id': 'https://openalex.org/C11413529',\n",
       "   'wikidata': 'https://www.wikidata.org/wiki/Q8366',\n",
       "   'display_name': 'Algorithm',\n",
       "   'level': 1,\n",
       "   'score': 0.38678518},\n",
       "  {'id': 'https://openalex.org/C80444323',\n",
       "   'wikidata': 'https://www.wikidata.org/wiki/Q2878974',\n",
       "   'display_name': 'Theoretical computer science',\n",
       "   'level': 1,\n",
       "   'score': 0.3718421},\n",
       "  {'id': 'https://openalex.org/C33923547',\n",
       "   'wikidata': 'https://www.wikidata.org/wiki/Q395',\n",
       "   'display_name': 'Mathematics',\n",
       "   'level': 0,\n",
       "   'score': 0.35297897},\n",
       "  {'id': 'https://openalex.org/C154945302',\n",
       "   'wikidata': 'https://www.wikidata.org/wiki/Q11660',\n",
       "   'display_name': 'Artificial intelligence',\n",
       "   'level': 1,\n",
       "   'score': 0.25002265},\n",
       "  {'id': 'https://openalex.org/C84462506',\n",
       "   'wikidata': 'https://www.wikidata.org/wiki/Q173142',\n",
       "   'display_name': 'Digital signal processing',\n",
       "   'level': 2,\n",
       "   'score': 0.2058287},\n",
       "  {'id': 'https://openalex.org/C31972630',\n",
       "   'wikidata': 'https://www.wikidata.org/wiki/Q844240',\n",
       "   'display_name': 'Computer vision',\n",
       "   'level': 1,\n",
       "   'score': 0.2016406},\n",
       "  {'id': 'https://openalex.org/C134306372',\n",
       "   'wikidata': 'https://www.wikidata.org/wiki/Q7754',\n",
       "   'display_name': 'Mathematical analysis',\n",
       "   'level': 1,\n",
       "   'score': 0.07787642},\n",
       "  {'id': 'https://openalex.org/C9390403',\n",
       "   'wikidata': 'https://www.wikidata.org/wiki/Q3966',\n",
       "   'display_name': 'Computer hardware',\n",
       "   'level': 1,\n",
       "   'score': 0.0},\n",
       "  {'id': 'https://openalex.org/C119599485',\n",
       "   'wikidata': 'https://www.wikidata.org/wiki/Q43035',\n",
       "   'display_name': 'Electrical engineering',\n",
       "   'level': 1,\n",
       "   'score': 0.0},\n",
       "  {'id': 'https://openalex.org/C127413603',\n",
       "   'wikidata': 'https://www.wikidata.org/wiki/Q11023',\n",
       "   'display_name': 'Engineering',\n",
       "   'level': 0,\n",
       "   'score': 0.0}],\n",
       " 'mesh': [],\n",
       " 'locations_count': 4,\n",
       " 'locations': [{'is_oa': False,\n",
       "   'landing_page_url': 'https://doi.org/10.1109/globalsip.2018.8646701',\n",
       "   'pdf_url': None,\n",
       "   'source': None,\n",
       "   'license': None,\n",
       "   'license_id': None,\n",
       "   'version': None,\n",
       "   'is_accepted': False,\n",
       "   'is_published': False},\n",
       "  {'is_oa': True,\n",
       "   'landing_page_url': 'https://arxiv.org/abs/1808.02111',\n",
       "   'pdf_url': 'https://arxiv.org/pdf/1808.02111',\n",
       "   'source': {'id': 'https://openalex.org/S4306400194',\n",
       "    'display_name': 'arXiv (Cornell University)',\n",
       "    'issn_l': None,\n",
       "    'issn': None,\n",
       "    'is_oa': True,\n",
       "    'is_in_doaj': False,\n",
       "    'is_indexed_in_scopus': False,\n",
       "    'is_core': False,\n",
       "    'host_organization': 'https://openalex.org/I205783295',\n",
       "    'host_organization_name': 'Cornell University',\n",
       "    'host_organization_lineage': ['https://openalex.org/I205783295'],\n",
       "    'host_organization_lineage_names': ['Cornell University'],\n",
       "    'type': 'repository'},\n",
       "   'license': None,\n",
       "   'license_id': None,\n",
       "   'version': 'submittedVersion',\n",
       "   'is_accepted': False,\n",
       "   'is_published': False},\n",
       "  {'is_oa': True,\n",
       "   'landing_page_url': 'https://ora.ox.ac.uk/objects/uuid:d4a55c96-8ddd-4850-919a-25f351f0240e',\n",
       "   'pdf_url': 'https://ora.ox.ac.uk/objects/uuid:d4a55c96-8ddd-4850-919a-25f351f0240e/files/m2abb73b2f35ceab5104a068a4a3bdef0',\n",
       "   'source': {'id': 'https://openalex.org/S4306402636',\n",
       "    'display_name': 'Oxford University Research Archive (ORA) (University of Oxford)',\n",
       "    'issn_l': None,\n",
       "    'issn': None,\n",
       "    'is_oa': True,\n",
       "    'is_in_doaj': False,\n",
       "    'is_indexed_in_scopus': False,\n",
       "    'is_core': False,\n",
       "    'host_organization': 'https://openalex.org/I40120149',\n",
       "    'host_organization_name': 'University of Oxford',\n",
       "    'host_organization_lineage': ['https://openalex.org/I40120149'],\n",
       "    'host_organization_lineage_names': ['University of Oxford'],\n",
       "    'type': 'repository'},\n",
       "   'license': None,\n",
       "   'license_id': None,\n",
       "   'version': 'submittedVersion',\n",
       "   'is_accepted': False,\n",
       "   'is_published': False},\n",
       "  {'is_oa': False,\n",
       "   'landing_page_url': 'https://api.datacite.org/dois/10.48550/arxiv.1808.02111',\n",
       "   'pdf_url': None,\n",
       "   'source': {'id': 'https://openalex.org/S4393179698',\n",
       "    'display_name': 'DataCite API',\n",
       "    'issn_l': None,\n",
       "    'issn': None,\n",
       "    'is_oa': True,\n",
       "    'is_in_doaj': False,\n",
       "    'is_indexed_in_scopus': False,\n",
       "    'is_core': False,\n",
       "    'host_organization': 'https://openalex.org/I4210145204',\n",
       "    'host_organization_name': 'DataCite',\n",
       "    'host_organization_lineage': ['https://openalex.org/I4210145204'],\n",
       "    'host_organization_lineage_names': ['DataCite'],\n",
       "    'type': 'metadata'},\n",
       "   'license': None,\n",
       "   'license_id': None,\n",
       "   'version': None}],\n",
       " 'best_oa_location': {'is_oa': True,\n",
       "  'landing_page_url': 'https://arxiv.org/abs/1808.02111',\n",
       "  'pdf_url': 'https://arxiv.org/pdf/1808.02111',\n",
       "  'source': {'id': 'https://openalex.org/S4306400194',\n",
       "   'display_name': 'arXiv (Cornell University)',\n",
       "   'issn_l': None,\n",
       "   'issn': None,\n",
       "   'is_oa': True,\n",
       "   'is_in_doaj': False,\n",
       "   'is_indexed_in_scopus': False,\n",
       "   'is_core': False,\n",
       "   'host_organization': 'https://openalex.org/I205783295',\n",
       "   'host_organization_name': 'Cornell University',\n",
       "   'host_organization_lineage': ['https://openalex.org/I205783295'],\n",
       "   'host_organization_lineage_names': ['Cornell University'],\n",
       "   'type': 'repository'},\n",
       "  'license': None,\n",
       "  'license_id': None,\n",
       "  'version': 'submittedVersion',\n",
       "  'is_accepted': False,\n",
       "  'is_published': False},\n",
       " 'sustainable_development_goals': [{'id': 'https://metadata.un.org/sdg/15',\n",
       "   'score': 0.45,\n",
       "   'display_name': 'Life on land'}],\n",
       " 'grants': [],\n",
       " 'datasets': [],\n",
       " 'versions': ['https://openalex.org/W2886742146'],\n",
       " 'referenced_works_count': 35,\n",
       " 'referenced_works': ['https://openalex.org/W1690143098',\n",
       "  'https://openalex.org/W1945792210',\n",
       "  'https://openalex.org/W1991252559',\n",
       "  'https://openalex.org/W2025796118',\n",
       "  'https://openalex.org/W2042276255',\n",
       "  'https://openalex.org/W2074128440',\n",
       "  'https://openalex.org/W2101491865',\n",
       "  'https://openalex.org/W2110620844',\n",
       "  'https://openalex.org/W2122858720',\n",
       "  'https://openalex.org/W2125048869',\n",
       "  'https://openalex.org/W2129488612',\n",
       "  'https://openalex.org/W2161763921',\n",
       "  'https://openalex.org/W2215668387',\n",
       "  'https://openalex.org/W2259693459',\n",
       "  'https://openalex.org/W2289317843',\n",
       "  'https://openalex.org/W2403741880',\n",
       "  'https://openalex.org/W2404087539',\n",
       "  'https://openalex.org/W2414667422',\n",
       "  'https://openalex.org/W2471231049',\n",
       "  'https://openalex.org/W247697463',\n",
       "  'https://openalex.org/W2521050763',\n",
       "  'https://openalex.org/W2531149756',\n",
       "  'https://openalex.org/W2616297073',\n",
       "  'https://openalex.org/W2740138510',\n",
       "  'https://openalex.org/W2787887656',\n",
       "  'https://openalex.org/W2793980368',\n",
       "  'https://openalex.org/W2885713624',\n",
       "  'https://openalex.org/W2963594156',\n",
       "  'https://openalex.org/W3040586665',\n",
       "  'https://openalex.org/W3047076447',\n",
       "  'https://openalex.org/W3099736351',\n",
       "  'https://openalex.org/W3103578494',\n",
       "  'https://openalex.org/W4238591275',\n",
       "  'https://openalex.org/W4246047487',\n",
       "  'https://openalex.org/W981311530'],\n",
       " 'related_works': ['https://openalex.org/W4321440274',\n",
       "  'https://openalex.org/W4244587941',\n",
       "  'https://openalex.org/W3004345458',\n",
       "  'https://openalex.org/W2896947499',\n",
       "  'https://openalex.org/W2883186538',\n",
       "  'https://openalex.org/W2623401972',\n",
       "  'https://openalex.org/W2570009360',\n",
       "  'https://openalex.org/W2402951419',\n",
       "  'https://openalex.org/W2051180862',\n",
       "  'https://openalex.org/W1976439244'],\n",
       " 'abstract_inverted_index': {'This': [0],\n",
       "  'paper': [1],\n",
       "  'focuses': [2],\n",
       "  'on': [3, 15, 88, 136, 150],\n",
       "  'devising': [4],\n",
       "  'graph': [5, 28, 61],\n",
       "  'signal': [6, 29],\n",
       "  'processing': [7, 30, 134],\n",
       "  'tools': [8, 26, 144],\n",
       "  'for': [9, 35, 97],\n",
       "  'the': [10, 16, 36, 46, 60, 89, 95, 117, 137, 142, 151],\n",
       "  'treatment': [11],\n",
       "  'of': [12, 18, 38, 49, 75, 85, 94, 100],\n",
       "  'data': [13],\n",
       "  'defined': [14],\n",
       "  'edges': [17],\n",
       "  'a': [19, 50, 73, 83, 91],\n",
       "  'graph.': [20],\n",
       "  'We': [21, 103],\n",
       "  'first': [22],\n",
       "  'show': [23, 122],\n",
       "  'that': [24, 71, 112],\n",
       "  'conventional': [25],\n",
       "  'from': [27, 54],\n",
       "  'may': [31],\n",
       "  'not': [32, 64],\n",
       "  'be': [33, 128],\n",
       "  'suitable': [34, 65],\n",
       "  'analysis': [37],\n",
       "  'such': [39],\n",
       "  'signals.': [40, 119],\n",
       "  'More': [41],\n",
       "  'specifically,': [42],\n",
       "  'we': [43, 81, 121, 140],\n",
       "  'discuss': [44],\n",
       "  'how': [45, 105, 123],\n",
       "  'underlying': [47],\n",
       "  'notion': [48, 74],\n",
       "  '`smooth': [51],\n",
       "  \"signal'\": [52],\n",
       "  'inherited': [53],\n",
       "  '(the': [55],\n",
       "  'typically': [56],\n",
       "  'considered': [57],\n",
       "  'variants': [58],\n",
       "  'of)': [59],\n",
       "  'Laplacian': [62],\n",
       "  'are': [63],\n",
       "  'when': [66],\n",
       "  'dealing': [67],\n",
       "  'with': [68, 130],\n",
       "  'edge': [69],\n",
       "  'signals': [70],\n",
       "  'encode': [72],\n",
       "  'flow.': [76],\n",
       "  'To': [77],\n",
       "  'overcome': [78],\n",
       "  'this': [79, 106],\n",
       "  'limitation': [80],\n",
       "  'introduce': [82],\n",
       "  'class': [84],\n",
       "  'filters': [86, 111, 126],\n",
       "  'based': [87],\n",
       "  'Edge-Laplacian,': [90],\n",
       "  'special': [92],\n",
       "  'case': [93],\n",
       "  'Hodge-Laplacian': [96],\n",
       "  'simplicial': [98],\n",
       "  'complexes': [99],\n",
       "  'order': [101],\n",
       "  'one.': [102],\n",
       "  'demonstrate': [104],\n",
       "  'Edge-Laplacian': [107],\n",
       "  'leads': [108],\n",
       "  'to': [109],\n",
       "  'low-pass': [110],\n",
       "  'enforce': [113],\n",
       "  '(approximate)': [114],\n",
       "  'flow-conservation': [115],\n",
       "  'in': [116],\n",
       "  'processed': [118],\n",
       "  'Moreover,': [120],\n",
       "  'these': [124],\n",
       "  'new': [125],\n",
       "  'can': [127],\n",
       "  'combined': [129],\n",
       "  'more': [131],\n",
       "  'classical': [132],\n",
       "  'Laplacian-based': [133],\n",
       "  'methods': [135],\n",
       "  'line-graph.': [138],\n",
       "  'Finally,': [139],\n",
       "  'illustrate': [141],\n",
       "  'developed': [143],\n",
       "  'by': [145],\n",
       "  'denoising': [146],\n",
       "  'synthetic': [147],\n",
       "  'traffic': [148],\n",
       "  'flows': [149],\n",
       "  'London': [152],\n",
       "  'street': [153],\n",
       "  'network.': [154]},\n",
       " 'abstract_inverted_index_v3': None,\n",
       " 'cited_by_api_url': 'https://api.openalex.org/works?filter=cites:W2886742146',\n",
       " 'counts_by_year': [{'year': 2025, 'cited_by_count': 2},\n",
       "  {'year': 2024, 'cited_by_count': 7},\n",
       "  {'year': 2023, 'cited_by_count': 11},\n",
       "  {'year': 2022, 'cited_by_count': 14},\n",
       "  {'year': 2021, 'cited_by_count': 12},\n",
       "  {'year': 2020, 'cited_by_count': 6},\n",
       "  {'year': 2019, 'cited_by_count': 3}],\n",
       " 'updated_date': '2025-07-18T07:21:47.590465',\n",
       " 'created_date': '2018-08-22'}"
      ]
     },
     "execution_count": 34,
     "metadata": {},
     "output_type": "execute_result"
    }
   ],
   "source": [
    "Works()['W2886742146']"
   ]
  },
  {
   "cell_type": "markdown",
   "id": "0a905305-34c7-4956-8426-1e75db32a461",
   "metadata": {},
   "source": [
    "# Construct Local Collaboration Hypergraph"
   ]
  },
  {
   "cell_type": "code",
   "execution_count": 21,
   "id": "776e6c72-2729-490f-92da-746155d0a3b0",
   "metadata": {},
   "outputs": [
    {
     "name": "stdout",
     "output_type": "stream",
     "text": [
      "Step 0, number_works: 1, ...\n"
     ]
    },
    {
     "name": "stderr",
     "output_type": "stream",
     "text": [
      "Traversing works in 0 step...: 100%|█████████████████████████████████████████████████████| 1/1 [00:02<00:00,  2.75s/it]\n"
     ]
    },
    {
     "name": "stdout",
     "output_type": "stream",
     "text": [
      "Step 1, number_works: 215, ...\n"
     ]
    },
    {
     "name": "stderr",
     "output_type": "stream",
     "text": [
      "Traversing works in 1 step...: 100%|█████████████████████████████████████████████████| 215/215 [07:56<00:00,  2.22s/it]\n"
     ]
    }
   ],
   "source": [
    "alex_works_id, alex_works = Alex.works_from_seed(n_step=2)"
   ]
  },
  {
   "cell_type": "code",
   "execution_count": 31,
   "id": "5b39f502-1f8e-48a9-9997-d8ce3e44c2ad",
   "metadata": {},
   "outputs": [
    {
     "name": "stdout",
     "output_type": "stream",
     "text": [
      "43205 W1992338233 43205 <class 'list'> <class 'pyalex.api.Work'>\n"
     ]
    },
    {
     "data": {
      "text/plain": [
       "True"
      ]
     },
     "execution_count": 31,
     "metadata": {},
     "output_type": "execute_result"
    }
   ],
   "source": [
    "print(len(alex_works_id), alex_works_id[0], len(set(alex_works_id)), type(alex_works), type(alex_works[0]))\n",
    "all(isinstance(w, pyalex.api.Work) for w in alex_works)\n",
    "# isinstance(alex_works[0], pyalex.api.Work)"
   ]
  },
  {
   "cell_type": "code",
   "execution_count": 103,
   "id": "105d4614-936a-4820-96a6-663de6726abc",
   "metadata": {},
   "outputs": [
    {
     "name": "stdout",
     "output_type": "stream",
     "text": [
      "Loading 43205 works from OpenAlex objects...\n"
     ]
    },
    {
     "name": "stderr",
     "output_type": "stream",
     "text": [
      "Loading works...: 100%|███████████████████████████████████████████████████████| 43205/43205 [00:02<00:00, 19442.92it/s]\n"
     ]
    },
    {
     "name": "stdout",
     "output_type": "stream",
     "text": [
      "Number of Author 101383, Number of Paper 43205 \n",
      " Average #_papers per author 3.2801554501247745 \n",
      " Average #_coauthors per paper 7.69707209813679\n",
      "Number of topics 2927.\n",
      "Most cite 1440 works, least cite 0 works.\n"
     ]
    }
   ],
   "source": [
    "alex = Alex(works=alex_works)"
   ]
  },
  {
   "cell_type": "code",
   "execution_count": 104,
   "id": "428ce154-fedc-48e2-b39d-eac6e8cda3ed",
   "metadata": {},
   "outputs": [],
   "source": [
    "path = \"./data/LocalCollaborationHypergraph_W3086152724_step2.pkl\"  # Hierarchical paper of Jiaze\n",
    "alex.save(path)"
   ]
  },
  {
   "cell_type": "markdown",
   "id": "9d2472b6-a336-488f-ab41-f65a110dd78c",
   "metadata": {},
   "source": [
    "## Hyper CD on Papers "
   ]
  },
  {
   "cell_type": "code",
   "execution_count": 94,
   "id": "9b2df042-077e-4250-9627-1572a93daad6",
   "metadata": {
    "scrolled": true
   },
   "outputs": [
    {
     "name": "stdout",
     "output_type": "stream",
     "text": [
      "There are 61251 authors with 1 paper: number of order_1 hyperedge. To be removed!\n",
      "There are 0 papers with 0 author: number of degree_0 nodes. To be removed!\n",
      "Hypergraph on papers, each author is a hyperedge. n=43205, e=40132\n",
      " Ks & #hyperedge per order=[[    2     3     4     5     6     7     8     9    10    11    12    13\n",
      "     14    15    16    17    18    19    20    21    22    23    24    25\n",
      "     26    27    28    29    30    31    32    33    34    35    36    37\n",
      "     38    39    40    41    42    43    44    45    46    47    48    49\n",
      "     50    51    52    53    54    55    56    57    58    59    60    61\n",
      "     62    63    64    65    66    67    68    69    70    71    72    74\n",
      "     75    76    77    78    79    80    81    82    83    84    85    86\n",
      "     87    88    89    90    91    92    93    94    95    96    97    99\n",
      "    100   101   102   103   104   105   106   107   109   110   112   113\n",
      "    114   115   116   117   118   119   121   122   123   124   125   128\n",
      "    129   130   133   134   136   137   138   139   140   141   142   144\n",
      "    148   150   151   154   156   157   158   160   163   164   165   166\n",
      "    167   169   170   172   174   175   177   179   181   182   183   184\n",
      "    186   187   191   192   196   198   199   205   206   208   210   211\n",
      "    215   217   218   221   228   229   230   233   235   239   240   242\n",
      "    243   254   263   276   277   279   281   282   286   287   288   289\n",
      "    294   299   303   309   312   314   322   323   325   327   331   337\n",
      "    345   352   353   357   361   376   377   381   384   385   386   400\n",
      "    408   413   414   420   439   440   443   458   464   488   497   506\n",
      "    513   518   524   554   576   581   597   610   622   735   884   922\n",
      "    986  1056  1106  1859]\n",
      " [17459  7154  3949  2366  1731  1135   856   693   569   460   369   270\n",
      "    290   213   174   192   207   124   128   119   128    88    69    80\n",
      "     54    57    50    54    32    37    40    32    45    24    29    23\n",
      "     33    16    23    31    26    16    26    11    20    15    20    16\n",
      "     21    11     9    16    13    12    13     7     7    19     7     6\n",
      "      3     9     6    13     8     6     7    12     4    10     8     4\n",
      "      3     7     5     2     2     2     4     5     7     5     3     2\n",
      "      4     3     3     3     1     4     4     3     1     3     2     4\n",
      "     14    19     8     9    12     3     8     6     3     3     1     2\n",
      "      2     1     2     1     2     3     2     3     3     2     1     3\n",
      "      1     2     1     2     1     1     4     2     2     1     1     2\n",
      "      1     2     2     2     1     1     1     2     1     1     1     2\n",
      "      1     1     1     1     1     1     1     2     3     1     1     2\n",
      "      2     1     1     1     1     3     2     1     1     2     1     2\n",
      "      1     1     1     2     1     1     1     2     2     1     1     1\n",
      "      1     1     2     1     1     1     1     1     1     1     1     1\n",
      "      1     1     1     1     1     1     1     1     1     1     1     2\n",
      "      1     1     1     2     1     1     1     1     1     1     1     1\n",
      "      1     1     1     1     1     1     1     1     1     1     1     1\n",
      "      1     1     1     1     1     1     1     1     1     1     1     1\n",
      "      1     1     1     1]]\n",
      "Ds & #nodes per degree=[[   1    2    3    4    5    6    7    8    9   10   11   12   13   14\n",
      "    15   16   17   18   19   20   21   22   23   24   25   26   27   28\n",
      "    29   30   31   32   33   34   35   36   37   38   39   40   41   42\n",
      "    43   44   45   46   47   48   49   50   51   52   53   54   55   56\n",
      "    57   58   59   60   61   62   63   64   65   66   67   68   69   70\n",
      "    71   72   73   74   75   76   77   78   79   80   81   82   83   84\n",
      "    85   86   87   88   89   90   91   92   93   94   95   96   97   98\n",
      "    99  100]\n",
      " [5542 7020 7565 5829 3958 2652 1835 1398 1136  934  733  566  429  415\n",
      "   305  295  279  196  221  175  140  145  119   70   82   78   59   48\n",
      "    60   52   23   28   12   27   12   17   20   10   21   25   23   28\n",
      "    19   16   12   38   11   13   12   17   17    4    6    8   12   11\n",
      "    13    6    5    5    7    8    5   10    3    4    5    5    2    3\n",
      "     8    7    5    2    4   10    4    3    2    5    7    3    6  103\n",
      "     5    4    3    7   11    7   13    7    8    6   11   16   10   15\n",
      "    21   33]]\n"
     ]
    }
   ],
   "source": [
    "alex_hyper_paper = HyperPaper(alex)\n",
    "# alex_hyper_paper.max_component()"
   ]
  },
  {
   "cell_type": "code",
   "execution_count": 44,
   "id": "bda0a37d-7aba-4822-bb97-9f59a1761805",
   "metadata": {},
   "outputs": [],
   "source": [
    "hyper_g = hnx.Hypergraph.from_incidence_matrix(alex_hyper_paper.H.toarray())\n",
    "connected_components = list(hyper_g.s_connected_components(edges=False))"
   ]
  },
  {
   "cell_type": "code",
   "execution_count": 47,
   "id": "0fb6275b-86de-41eb-b926-8fb1c571f474",
   "metadata": {},
   "outputs": [
    {
     "name": "stdout",
     "output_type": "stream",
     "text": [
      "1\n"
     ]
    }
   ],
   "source": [
    "print(len(connected_components))"
   ]
  },
  {
   "cell_type": "code",
   "execution_count": 48,
   "id": "909a7a3a-d9e8-453f-b23d-5a6f05a83655",
   "metadata": {},
   "outputs": [
    {
     "name": "stderr",
     "output_type": "stream",
     "text": [
      "Constructing HyperBH...: 100%|███████████████████████████████████████████████████████| 244/244 [00:06<00:00, 36.74it/s]\n"
     ]
    },
    {
     "name": "stdout",
     "output_type": "stream",
     "text": [
      "Try first 100 eigenvalue...\n",
      "Try first 1000 eigenvalue...\n",
      "number of groups = 655, Kpos=655\n",
      "EVECs construct: 1551.2000076770782\n"
     ]
    }
   ],
   "source": [
    "partition_vec, num_groups = HyperCommunityDetect().BetheHessian(alex_hyper_paper, only_assortative=True)\n",
    "save_path = f\"./result/alex_cd/LocalCollaborationHypergraph_W3086152724_step2_BH_q{num_groups}.pkl\"\n",
    "with open(save_path, \"wb\") as fw:\n",
    "    pickle.dump(partition_vec, fw)"
   ]
  },
  {
   "cell_type": "code",
   "execution_count": 49,
   "id": "f29c5703-72fe-4c71-aaae-b7bda9451446",
   "metadata": {
    "collapsed": true,
    "jupyter": {
     "outputs_hidden": true
    },
    "scrolled": true
   },
   "outputs": [
    {
     "data": {
      "text/plain": [
       "(array([  0,   1,   2,   3,   4,   5,   6,   7,   8,   9,  10,  11,  12,\n",
       "         13,  14,  15,  16,  17,  18,  19,  20,  21,  22,  23,  24,  25,\n",
       "         26,  27,  28,  29,  30,  31,  32,  33,  34,  35,  36,  37,  38,\n",
       "         39,  40,  41,  42,  43,  44,  45,  46,  47,  48,  49,  50,  51,\n",
       "         52,  53,  54,  55,  56,  57,  58,  59,  60,  61,  62,  63,  64,\n",
       "         65,  66,  67,  68,  69,  70,  71,  72,  73,  74,  75,  76,  77,\n",
       "         78,  79,  80,  81,  82,  83,  84,  85,  86,  87,  88,  89,  90,\n",
       "         91,  92,  93,  94,  95,  96,  97,  98,  99, 100, 101, 102, 103,\n",
       "        104, 105, 106, 107, 108, 109, 110, 111, 112, 113, 114, 115, 116,\n",
       "        117, 118, 119, 120, 121, 122, 123, 124, 125, 126, 127, 128, 129,\n",
       "        130, 131, 132, 133, 134, 135, 136, 137, 138, 139, 140, 141, 142,\n",
       "        143, 144, 145, 146, 147, 148, 149, 150, 151, 152, 153, 154, 155,\n",
       "        156, 157, 158, 159, 160, 161, 162, 163, 164, 165, 166, 167, 168,\n",
       "        169, 170, 171, 172, 173, 174, 175, 176, 177, 178, 179, 180, 181,\n",
       "        182, 183, 184, 185, 186, 187, 188, 189, 190, 191, 192, 193, 194,\n",
       "        195, 196, 197, 198, 199, 200, 201, 202, 203, 204, 205, 206, 207,\n",
       "        208, 209, 210, 211, 212, 213, 214, 215, 216, 217, 218, 219, 220,\n",
       "        221, 222, 223, 224, 225, 226, 227, 228, 229, 230, 231, 232, 233,\n",
       "        234, 235, 236, 237, 238, 239, 240, 241, 242, 243, 244, 245, 246,\n",
       "        247, 248, 249, 250, 251, 252, 253, 254, 255, 256, 257, 258, 259,\n",
       "        260, 261, 262, 263, 264, 265, 266, 267, 268, 269, 270, 271, 272,\n",
       "        273, 274, 275, 276, 277, 278, 279, 280, 281, 282, 283, 284, 285,\n",
       "        286, 287, 288, 289, 290, 291, 292, 293, 294, 295, 296, 297, 298,\n",
       "        299, 300, 301, 302, 303, 304, 305, 306, 307, 308, 309, 310, 311,\n",
       "        312, 313, 314, 315, 316, 317, 318, 319, 320, 321, 322, 323, 324,\n",
       "        325, 326, 327, 328, 329, 330, 331, 332, 333, 334, 335, 336, 337,\n",
       "        338, 339, 340, 341, 342, 343, 344, 345, 346, 347, 348, 349, 350,\n",
       "        351, 352, 353, 354, 355, 356, 357, 358, 359, 360, 361, 362, 363,\n",
       "        364, 365, 366, 367, 368, 369, 370, 371, 372, 373, 374, 375, 376,\n",
       "        377, 378, 379, 380, 381, 382, 383, 384, 385, 386, 387, 388, 389,\n",
       "        390, 391, 392, 393, 394, 395, 396, 397, 398, 399, 400, 401, 402,\n",
       "        403, 404, 405, 406, 407, 408, 409, 410, 411, 412, 413, 414, 415,\n",
       "        416, 417, 418, 419, 420, 421, 422, 423, 424, 425, 426, 427, 428,\n",
       "        429, 430, 431, 432, 433, 434, 435, 436, 437, 438, 439, 440, 441,\n",
       "        442, 443, 444, 445, 446, 447, 448, 449, 450, 451, 452, 453, 454,\n",
       "        455, 456, 457, 458, 459, 460, 461, 462, 463, 464, 465, 466, 467,\n",
       "        468, 469, 470, 471, 472, 473, 474, 475, 476, 477, 478, 479, 480,\n",
       "        481, 482, 483, 484, 485, 486, 487, 488, 489, 490, 491, 492, 493,\n",
       "        494, 495, 496, 497, 498, 499, 500, 501, 502, 503, 504, 505, 506,\n",
       "        507, 508, 509, 510, 511, 512, 513, 514, 515, 516, 517, 518, 519,\n",
       "        520, 521, 522, 523, 524, 525, 526, 527, 528, 529, 530, 531, 532,\n",
       "        533, 534, 535, 536, 537, 538, 539, 540, 541, 542, 543, 544, 545,\n",
       "        546, 547, 548, 549, 550, 551, 552, 553, 554, 555, 556, 557, 558,\n",
       "        559, 560, 561, 562, 563, 564, 565, 566, 567, 568, 569, 570, 571,\n",
       "        572, 573, 574, 575, 576, 577, 578, 579, 580, 581, 582, 583, 584,\n",
       "        585, 586, 587, 588, 589, 590, 591, 592, 593, 594, 595, 596, 597,\n",
       "        598, 599, 600, 601, 602, 603, 604, 605, 606, 607, 608, 609, 610,\n",
       "        611, 612, 613, 614, 615, 616, 617, 618, 619, 620, 621, 622, 623,\n",
       "        624, 625, 626, 627, 628, 629, 630, 631, 632, 633, 634, 635, 636,\n",
       "        637, 638, 639, 640, 641, 642, 643, 644, 645, 646, 647, 648, 649,\n",
       "        650, 651, 652, 653, 654]),\n",
       " array([   62,   319,   375,     4,     2,     3,     7,     9,    22,\n",
       "           13,    10,     4,    18,    14,     8,     4,    10,   409,\n",
       "            6,     5,     4,    29,     2,    29,    10,    44,   126,\n",
       "            8,    12,     5,     2,     4,    33,     9,    11,    42,\n",
       "          153,     2,     3,     3,    28,    19,     7,    18,    17,\n",
       "           53,   843,     8,     6,     3,   157,    13,     3,    10,\n",
       "           17,    99,    13,     3,    11,    11,    20,    17,     3,\n",
       "           17,    18,   491,     4,    26,     2,    19,     6,    50,\n",
       "            5,    14,    10,    10,     7,     2,     3,     5,   161,\n",
       "           32,    26,     3,    10,     8,    58,     2,     4,    25,\n",
       "            4,   137,     4,    11,     3,     4,     5,    15,    11,\n",
       "            5,    19,     2,    85,    10,    11,     8,    15,     2,\n",
       "           11,     3,    31,     7,     9,     6,     3,    18,     3,\n",
       "           20,    15,    19,    17,    25,     4,     3,     4,    52,\n",
       "            8,    51,     4,    11,     2,     4,     3,     9,     4,\n",
       "          350,     2,    48,    27,     6,     4,     7,    32,    12,\n",
       "            3,     3,    13,     6,    71,    21,     5,    11,    15,\n",
       "            6,     2,   101,     8,     4,     4,     3,   255,     6,\n",
       "            8,     2,    16,     6,    47,     7,     6,    16,     6,\n",
       "            8,     7,     2,     7,     2,     6,    14,     3,     6,\n",
       "            2,     2,     3,     6,     4,     2,     3,     2,     9,\n",
       "            4,    20,     7,     2,   575,    25,    19,     6,     9,\n",
       "            5,     8,    17,     3,     4,     6,    31,     6,   149,\n",
       "            2,   127,     5,     7,    16,     2, 13745,     6,    21,\n",
       "           24,    39,    17,     2,    10,    20,    39,     2,    34,\n",
       "            3,    38,    11,     2,     2,    21,     3,     3,     8,\n",
       "            7,    26,     3,    19,    15,     7,     3,     2,     2,\n",
       "            7,     5,     7,    12,   155,    11,     8,     3,     6,\n",
       "           23,    10,     2,     2,     8,     3,     7,    34,   186,\n",
       "            4,     2,    18,     2,     7,     7,     9,    13,     7,\n",
       "           29,     9,    48,    17,     7,     9,   229,     7,    12,\n",
       "          197,    11,    29,     5,    25,    21,     8,    46,     7,\n",
       "           56,    35,    16,    36,     5,     6,     4,     2,    34,\n",
       "           14,   357,   144,    53,    23,    56,     7,     9,     5,\n",
       "          471,    21,    12,    21,     3,     6,    40,     3,   191,\n",
       "           79,    11,    20,    21,     4,    12,    32,     5,     6,\n",
       "           11,    40,     4,    83,    16,    33,   155,    23,    11,\n",
       "           55,    18,   283,     7,    25,    14,     9,   138,     3,\n",
       "           10,    95,    17,    98,     7,    19,    23,    18,    33,\n",
       "           92,   120,     4,     8,     5,   623,     6,    27,    30,\n",
       "            3,   126,   171,    15,    59,   111,     8,    20,     4,\n",
       "           38,     5,    59,     2,     2,    78,     3,    16,    10,\n",
       "           55,    82,    27,    85,     8,    20,    13,    20,    33,\n",
       "            7,    12,     2,   385,    22,    37,     3,     8,     2,\n",
       "            6,    17,    70,    13,     5,   357,   102,    36,    25,\n",
       "           31,    40,     4,   203,     9,    12,    10,    21,    19,\n",
       "           10,     2,   104,    44,     3,     8,     9,     4,    29,\n",
       "            3,   115,     6,     6,    10,     9,     4,    31,    34,\n",
       "           33,    14,    10,   112,    37,     7,   228,   145,    87,\n",
       "           62,    45,   128,     5,     6,     9,     5,     6,    83,\n",
       "           17,    18,   231,    14,    41,   227,    17,    89,    15,\n",
       "           27,    15,    26,    29,    16,   109,    22,    33,     5,\n",
       "           94,     5,   122,    53,   435,    92,    51,     8,     7,\n",
       "          216,    54,    28,     9,     2,     7,   163,     7,    17,\n",
       "           12,    16,     2,     8,    62,    51,     4,    98,    63,\n",
       "           72,    64,    29,     8,    11,   169,     5,    46,    42,\n",
       "           51,    68,    35,   184,     5,     2,     4,    12,   120,\n",
       "            2,     4,     2,    60,    10,    25,    82,    36,   160,\n",
       "           28,    20,    85,    68,    15,   200,    27,    10,     5,\n",
       "           49,    53,    79,   793,    67,     4,    23,     5,    28,\n",
       "           20,    13,   290,   263,   145,    78,    30,    35,     6,\n",
       "           11,     2,    12,    12,    50,    54,    20,    13,    56,\n",
       "           85,    12,   174,    12,   122,     9,   454,    22,    17,\n",
       "           24,    13,    47,    65,    25,    40,   120,     6,    12,\n",
       "           82,     7,    17,   107,    14,    33,    16,     9,   105,\n",
       "           96,    34,     2,    47,    54,   160,     9,    33,    64,\n",
       "           27,     5,    24,   207,    90,    84,    19,    37,   156,\n",
       "           14,     8,    17,    61,   139,     4,    29,    27,    13,\n",
       "           50,    28,    19,     7,    62,   163,    81,     3,    71,\n",
       "           13,     5,    15,    42,    57,   235,    60,    56,    21,\n",
       "           17,    39,    71,    96,   251,    25,     4,    16,    58,\n",
       "           35,    23,    43,   134,   118,    40,   131,    44,    22,\n",
       "          189,    39,    15,   258,    86,    38,   116], dtype=int64))"
      ]
     },
     "execution_count": 49,
     "metadata": {},
     "output_type": "execute_result"
    }
   ],
   "source": [
    "np.unique(partition_vec, return_counts=True)"
   ]
  },
  {
   "cell_type": "code",
   "execution_count": 57,
   "id": "f31b17cf-2254-4369-9950-97e45cfd3909",
   "metadata": {},
   "outputs": [],
   "source": [
    "order = np.argsort(partition_vec)\n",
    "print_text = \"Id AlexId Group Topic\\n\"\n",
    "for workid in alex_hyper_paper.nondegree0_row[0][order]:\n",
    "    print_text += f\"{workid} {alex.works_idmap[workid]} {partition_vec[workid]} {alex.works_info[workid]['topic']}\\n\""
   ]
  },
  {
   "cell_type": "code",
   "execution_count": 58,
   "id": "d92100f2-d4f2-4ae2-9ccd-e49ce2e7034b",
   "metadata": {},
   "outputs": [],
   "source": [
    "with open(f\"./result/alex_cd/LocalCollaborationHypergraph_W3086152724_step2_BH_q{num_groups}.txt\", 'w', encoding=\"utf-8\") as f:\n",
    "    f.write(print_text)"
   ]
  },
  {
   "cell_type": "markdown",
   "id": "05a02c9e-0796-4b00-8fb4-a91b904bc1f1",
   "metadata": {},
   "source": [
    "## Visualization"
   ]
  },
  {
   "cell_type": "code",
   "execution_count": 75,
   "id": "41569eb5-e583-4bf1-a57e-e6a83e5eb09c",
   "metadata": {},
   "outputs": [],
   "source": [
    "## projection (Too dense)\n",
    "A = alex_hyper_paper.H.dot(alex_hyper_paper.H.T)\n",
    "g = nx.from_scipy_sparse_array(A)"
   ]
  },
  {
   "cell_type": "code",
   "execution_count": 78,
   "id": "323aae4e-a3a4-4ce9-8d72-702b31b8dfe8",
   "metadata": {
    "collapsed": true,
    "jupyter": {
     "outputs_hidden": true
    }
   },
   "outputs": [
    {
     "name": "stderr",
     "output_type": "stream",
     "text": [
      "  3%|█▊                                                                   | 268863/9985113 [02:07<1:16:56, 2104.65it/s]\n"
     ]
    },
    {
     "ename": "KeyboardInterrupt",
     "evalue": "",
     "output_type": "error",
     "traceback": [
      "\u001b[1;31m---------------------------------------------------------------------------\u001b[0m",
      "\u001b[1;31mKeyboardInterrupt\u001b[0m                         Traceback (most recent call last)",
      "Cell \u001b[1;32mIn[78], line 2\u001b[0m\n\u001b[0;32m      1\u001b[0m proj_graph_linklist \u001b[38;5;241m=\u001b[39m \u001b[38;5;124m\"\u001b[39m\u001b[38;5;124msource;target;value\u001b[39m\u001b[38;5;130;01m\\n\u001b[39;00m\u001b[38;5;124m\"\u001b[39m\n\u001b[1;32m----> 2\u001b[0m \u001b[38;5;28;01mfor\u001b[39;00m l \u001b[38;5;129;01min\u001b[39;00m tqdm(g\u001b[38;5;241m.\u001b[39medges\u001b[38;5;241m.\u001b[39mdata()):\n\u001b[0;32m      3\u001b[0m     proj_graph_linklist \u001b[38;5;241m+\u001b[39m\u001b[38;5;241m=\u001b[39m \u001b[38;5;124mf\u001b[39m\u001b[38;5;124m\"\u001b[39m\u001b[38;5;132;01m{\u001b[39;00ml[\u001b[38;5;241m0\u001b[39m]\u001b[38;5;132;01m}\u001b[39;00m\u001b[38;5;124m;\u001b[39m\u001b[38;5;132;01m{\u001b[39;00ml[\u001b[38;5;241m1\u001b[39m]\u001b[38;5;132;01m}\u001b[39;00m\u001b[38;5;124m;\u001b[39m\u001b[38;5;132;01m{\u001b[39;00ml[\u001b[38;5;241m2\u001b[39m][\u001b[38;5;124m'\u001b[39m\u001b[38;5;124mweight\u001b[39m\u001b[38;5;124m'\u001b[39m]\u001b[38;5;132;01m}\u001b[39;00m\u001b[38;5;130;01m\\n\u001b[39;00m\u001b[38;5;124m\"\u001b[39m\n",
      "File \u001b[1;32mD:\\BackProgram\\Anaconda\\envs\\network\\Lib\\site-packages\\tqdm\\std.py:1182\u001b[0m, in \u001b[0;36mtqdm.__iter__\u001b[1;34m(self)\u001b[0m\n\u001b[0;32m   1180\u001b[0m \u001b[38;5;28;01mtry\u001b[39;00m:\n\u001b[0;32m   1181\u001b[0m     \u001b[38;5;28;01mfor\u001b[39;00m obj \u001b[38;5;129;01min\u001b[39;00m iterable:\n\u001b[1;32m-> 1182\u001b[0m         \u001b[38;5;28;01myield\u001b[39;00m obj\n\u001b[0;32m   1183\u001b[0m         \u001b[38;5;66;03m# Update and possibly print the progressbar.\u001b[39;00m\n\u001b[0;32m   1184\u001b[0m         \u001b[38;5;66;03m# Note: does not call self.update(1) for speed optimisation.\u001b[39;00m\n\u001b[0;32m   1185\u001b[0m         n \u001b[38;5;241m+\u001b[39m\u001b[38;5;241m=\u001b[39m \u001b[38;5;241m1\u001b[39m\n",
      "\u001b[1;31mKeyboardInterrupt\u001b[0m: "
     ]
    }
   ],
   "source": [
    "proj_graph_linklist = \"source;target;value\\n\"\n",
    "for l in tqdm(g.edges.data()):\n",
    "    proj_graph_linklist += f\"{l[0]};{l[1]};{l[2]['weight']}\\n\""
   ]
  },
  {
   "cell_type": "code",
   "execution_count": 91,
   "id": "d7684b9e-d3b9-4bad-be82-fce60f1f1608",
   "metadata": {},
   "outputs": [
    {
     "name": "stderr",
     "output_type": "stream",
     "text": [
      "269743it [02:06, 2133.77it/s]\n"
     ]
    }
   ],
   "source": [
    "## Bipartite\n",
    "# lefttop = csr_array(np.zeros((alex_hyper_paper.n, alex_hyper_paper.n)))\n",
    "# rightbottom = csr_array(np.zeros((alex_hyper_paper.e, alex_hyper_paper.e)))\n",
    "# bipartite_A = csr_array(vstack([hstack([lefttop, alex_hyper_paper.H]), hstack([alex_hyper_paper.H.transpose(), rightbottom])]))\n",
    "bipartite_linklist = \"source;target\\n\"  # from paper to author\n",
    "rows, cols = alex_hyper_paper.H.nonzero()\n",
    "for r, c in tqdm(zip(rows, cols)):\n",
    "    bipartite_linklist += f\"{r};{alex_hyper_paper.n+c}\\n\""
   ]
  },
  {
   "cell_type": "code",
   "execution_count": 92,
   "id": "93f5d078-1cc5-4039-805f-18c6add04ed4",
   "metadata": {},
   "outputs": [
    {
     "data": {
      "text/plain": [
       "269743"
      ]
     },
     "execution_count": 92,
     "metadata": {},
     "output_type": "execute_result"
    }
   ],
   "source": [
    "len(alex_hyper_paper.H.nonzero()[0])"
   ]
  },
  {
   "cell_type": "code",
   "execution_count": 93,
   "id": "db94f8eb-10e1-426f-a150-4b2288c7cee8",
   "metadata": {},
   "outputs": [],
   "source": [
    "with open(\"./result/visual_graph/LocalCollaborationHypergraph_W3086152724_step2_biGraph.csv\", \"w\") as fw:\n",
    "    fw.write(bipartite_linklist)"
   ]
  },
  {
   "cell_type": "code",
   "execution_count": 117,
   "id": "559d6954-f68b-4632-9831-15f4e9a58fb4",
   "metadata": {},
   "outputs": [
    {
     "name": "stderr",
     "output_type": "stream",
     "text": [
      "100%|███████████████████████████████████████████████████████████████████████████| 83337/83337 [09:20<00:00, 148.64it/s]\n"
     ]
    }
   ],
   "source": [
    "bipartite_meta = \"id;type;name;bh_group;alex_url\\n\"\n",
    "for i in tqdm(range(alex_hyper_paper.n + alex_hyper_paper.e)):\n",
    "    line = f\"{i};\"\n",
    "    if i < alex_hyper_paper.n:\n",
    "        title = alex.works_info[i]['title']\n",
    "        if title is not None:\n",
    "            title = title.replace(\";\", \" \")\n",
    "            title = title.replace(\"\\n\", \" \")\n",
    "        line += f\"paper;{title};{partition_vec[i]};https://openalex.org/works/w{alex.works_idmap[i]}\\n\"\n",
    "    else:\n",
    "        author_id = alex_hyper_paper.nonorder1_column[0][i-alex_hyper_paper.n]\n",
    "        author_alex_id = alex.authors_idmap[author_id]\n",
    "        name = alex.authors_info[author_id][\"name\"]\n",
    "        name = name.replace(\";\", \" \")\n",
    "        name = name.replace(\"\\n\", \" \")\n",
    "        line += f\"author;{name};-1;https://openalex.org/authors/a{author_alex_id}\\n\"\n",
    "    bipartite_meta += line"
   ]
  },
  {
   "cell_type": "code",
   "execution_count": 118,
   "id": "78555939-3f9f-4d3c-9293-4fe63876c8ef",
   "metadata": {},
   "outputs": [],
   "source": [
    "with open(\"./result/visual_graph/LocalCollaborationHypergraph_W3086152724_step2_biGraph_meta.csv\", \"w\", encoding=\"utf-8\") as fw:\n",
    "    fw.write(bipartite_meta)"
   ]
  },
  {
   "cell_type": "code",
   "execution_count": 119,
   "id": "af7adc2b-d8cc-4790-b308-fe3f466dda08",
   "metadata": {},
   "outputs": [
    {
     "data": {
      "text/plain": [
       "{'title': 'Gender differences in collaboration and career progression in physics',\n",
       " 'citations': [],\n",
       " 'topic': ('10726', 'Career Development and Diversity'),\n",
       " 'subfield': ('3311', 'Safety Research'),\n",
       " 'field': ('33', 'Social Sciences'),\n",
       " 'domain': ('2', 'Social Sciences'),\n",
       " 'source': ('4306400194', 'arXiv (Cornell University)')}"
      ]
     },
     "execution_count": 119,
     "metadata": {},
     "output_type": "execute_result"
    }
   ],
   "source": [
    "alex.works_info[25229]"
   ]
  },
  {
   "cell_type": "code",
   "execution_count": 122,
   "id": "1420ce7d-5e4b-4aa3-a5e0-9f993b8814e1",
   "metadata": {},
   "outputs": [
    {
     "data": {
      "text/plain": [
       "(array([0, 0, 0, 0]), array([  160,   161, 57906, 57907]))"
      ]
     },
     "execution_count": 122,
     "metadata": {},
     "output_type": "execute_result"
    }
   ],
   "source": [
    "alex.incidence_H.T[[25229], :].nonzero()"
   ]
  },
  {
   "cell_type": "code",
   "execution_count": null,
   "id": "6f528443-be88-493d-91c7-1d9efeeb9b41",
   "metadata": {},
   "outputs": [],
   "source": []
  }
 ],
 "metadata": {
  "kernelspec": {
   "display_name": "network",
   "language": "python",
   "name": "network"
  },
  "language_info": {
   "codemirror_mode": {
    "name": "ipython",
    "version": 3
   },
   "file_extension": ".py",
   "mimetype": "text/x-python",
   "name": "python",
   "nbconvert_exporter": "python",
   "pygments_lexer": "ipython3",
   "version": "3.11.8"
  }
 },
 "nbformat": 4,
 "nbformat_minor": 5
}
